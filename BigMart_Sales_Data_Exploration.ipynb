{
  "nbformat": 4,
  "nbformat_minor": 0,
  "metadata": {
    "colab": {
      "name": "BigMart Sales Data Exploration",
      "provenance": [],
      "collapsed_sections": []
    },
    "kernelspec": {
      "name": "python3",
      "display_name": "Python 3"
    },
    "language_info": {
      "name": "python"
    }
  },
  "cells": [
    {
      "cell_type": "markdown",
      "source": [
        "# BigMart Sales Data Exploration"
      ],
      "metadata": {
        "id": "Q4DuOaq3zmG-"
      }
    },
    {
      "cell_type": "markdown",
      "source": [
        "## Import lib"
      ],
      "metadata": {
        "id": "1lUgngASztDY"
      }
    },
    {
      "cell_type": "code",
      "execution_count": 1,
      "metadata": {
        "colab": {
          "base_uri": "https://localhost:8080/"
        },
        "id": "rko98kjcy0Kt",
        "outputId": "a4144088-1e5a-4f78-da9c-48f33056d7f5"
      },
      "outputs": [
        {
          "output_type": "stream",
          "name": "stdout",
          "text": [
            "The modules being imported\n"
          ]
        }
      ],
      "source": [
        "import pandas as pd\n",
        "import numpy as np\n",
        "import plotly.express as px\n",
        "import warnings\n",
        "warnings.filterwarnings('ignore')\n",
        "print(\"The modules being imported\")"
      ]
    },
    {
      "cell_type": "code",
      "source": [
        "# Import Dataset\n",
        "\n",
        "df = pd.read_csv('Train.csv')"
      ],
      "metadata": {
        "id": "zH9Sly_S0AhP"
      },
      "execution_count": 2,
      "outputs": []
    },
    {
      "cell_type": "code",
      "source": [
        "df.head()"
      ],
      "metadata": {
        "colab": {
          "base_uri": "https://localhost:8080/",
          "height": 357
        },
        "id": "etzS7YsJ0AST",
        "outputId": "34cb1176-fb7f-44ef-f7f2-ebc9576ced2c"
      },
      "execution_count": 3,
      "outputs": [
        {
          "output_type": "execute_result",
          "data": {
            "text/html": [
              "\n",
              "  <div id=\"df-a11b0662-6a0d-48f6-847e-111ebc658926\">\n",
              "    <div class=\"colab-df-container\">\n",
              "      <div>\n",
              "<style scoped>\n",
              "    .dataframe tbody tr th:only-of-type {\n",
              "        vertical-align: middle;\n",
              "    }\n",
              "\n",
              "    .dataframe tbody tr th {\n",
              "        vertical-align: top;\n",
              "    }\n",
              "\n",
              "    .dataframe thead th {\n",
              "        text-align: right;\n",
              "    }\n",
              "</style>\n",
              "<table border=\"1\" class=\"dataframe\">\n",
              "  <thead>\n",
              "    <tr style=\"text-align: right;\">\n",
              "      <th></th>\n",
              "      <th>Item_Identifier</th>\n",
              "      <th>Item_Weight</th>\n",
              "      <th>Item_Fat_Content</th>\n",
              "      <th>Item_Visibility</th>\n",
              "      <th>Item_Type</th>\n",
              "      <th>Item_MRP</th>\n",
              "      <th>Outlet_Identifier</th>\n",
              "      <th>Outlet_Establishment_Year</th>\n",
              "      <th>Outlet_Size</th>\n",
              "      <th>Outlet_Location_Type</th>\n",
              "      <th>Outlet_Type</th>\n",
              "      <th>Item_Outlet_Sales</th>\n",
              "    </tr>\n",
              "  </thead>\n",
              "  <tbody>\n",
              "    <tr>\n",
              "      <th>0</th>\n",
              "      <td>FDA15</td>\n",
              "      <td>9.30</td>\n",
              "      <td>Low Fat</td>\n",
              "      <td>0.016047</td>\n",
              "      <td>Dairy</td>\n",
              "      <td>249.8092</td>\n",
              "      <td>OUT049</td>\n",
              "      <td>1999</td>\n",
              "      <td>Medium</td>\n",
              "      <td>Tier 1</td>\n",
              "      <td>Supermarket Type1</td>\n",
              "      <td>3735.1380</td>\n",
              "    </tr>\n",
              "    <tr>\n",
              "      <th>1</th>\n",
              "      <td>DRC01</td>\n",
              "      <td>5.92</td>\n",
              "      <td>Regular</td>\n",
              "      <td>0.019278</td>\n",
              "      <td>Soft Drinks</td>\n",
              "      <td>48.2692</td>\n",
              "      <td>OUT018</td>\n",
              "      <td>2009</td>\n",
              "      <td>Medium</td>\n",
              "      <td>Tier 3</td>\n",
              "      <td>Supermarket Type2</td>\n",
              "      <td>443.4228</td>\n",
              "    </tr>\n",
              "    <tr>\n",
              "      <th>2</th>\n",
              "      <td>FDN15</td>\n",
              "      <td>17.50</td>\n",
              "      <td>Low Fat</td>\n",
              "      <td>0.016760</td>\n",
              "      <td>Meat</td>\n",
              "      <td>141.6180</td>\n",
              "      <td>OUT049</td>\n",
              "      <td>1999</td>\n",
              "      <td>Medium</td>\n",
              "      <td>Tier 1</td>\n",
              "      <td>Supermarket Type1</td>\n",
              "      <td>2097.2700</td>\n",
              "    </tr>\n",
              "    <tr>\n",
              "      <th>3</th>\n",
              "      <td>FDX07</td>\n",
              "      <td>19.20</td>\n",
              "      <td>Regular</td>\n",
              "      <td>0.000000</td>\n",
              "      <td>Fruits and Vegetables</td>\n",
              "      <td>182.0950</td>\n",
              "      <td>OUT010</td>\n",
              "      <td>1998</td>\n",
              "      <td>NaN</td>\n",
              "      <td>Tier 3</td>\n",
              "      <td>Grocery Store</td>\n",
              "      <td>732.3800</td>\n",
              "    </tr>\n",
              "    <tr>\n",
              "      <th>4</th>\n",
              "      <td>NCD19</td>\n",
              "      <td>8.93</td>\n",
              "      <td>Low Fat</td>\n",
              "      <td>0.000000</td>\n",
              "      <td>Household</td>\n",
              "      <td>53.8614</td>\n",
              "      <td>OUT013</td>\n",
              "      <td>1987</td>\n",
              "      <td>High</td>\n",
              "      <td>Tier 3</td>\n",
              "      <td>Supermarket Type1</td>\n",
              "      <td>994.7052</td>\n",
              "    </tr>\n",
              "  </tbody>\n",
              "</table>\n",
              "</div>\n",
              "      <button class=\"colab-df-convert\" onclick=\"convertToInteractive('df-a11b0662-6a0d-48f6-847e-111ebc658926')\"\n",
              "              title=\"Convert this dataframe to an interactive table.\"\n",
              "              style=\"display:none;\">\n",
              "        \n",
              "  <svg xmlns=\"http://www.w3.org/2000/svg\" height=\"24px\"viewBox=\"0 0 24 24\"\n",
              "       width=\"24px\">\n",
              "    <path d=\"M0 0h24v24H0V0z\" fill=\"none\"/>\n",
              "    <path d=\"M18.56 5.44l.94 2.06.94-2.06 2.06-.94-2.06-.94-.94-2.06-.94 2.06-2.06.94zm-11 1L8.5 8.5l.94-2.06 2.06-.94-2.06-.94L8.5 2.5l-.94 2.06-2.06.94zm10 10l.94 2.06.94-2.06 2.06-.94-2.06-.94-.94-2.06-.94 2.06-2.06.94z\"/><path d=\"M17.41 7.96l-1.37-1.37c-.4-.4-.92-.59-1.43-.59-.52 0-1.04.2-1.43.59L10.3 9.45l-7.72 7.72c-.78.78-.78 2.05 0 2.83L4 21.41c.39.39.9.59 1.41.59.51 0 1.02-.2 1.41-.59l7.78-7.78 2.81-2.81c.8-.78.8-2.07 0-2.86zM5.41 20L4 18.59l7.72-7.72 1.47 1.35L5.41 20z\"/>\n",
              "  </svg>\n",
              "      </button>\n",
              "      \n",
              "  <style>\n",
              "    .colab-df-container {\n",
              "      display:flex;\n",
              "      flex-wrap:wrap;\n",
              "      gap: 12px;\n",
              "    }\n",
              "\n",
              "    .colab-df-convert {\n",
              "      background-color: #E8F0FE;\n",
              "      border: none;\n",
              "      border-radius: 50%;\n",
              "      cursor: pointer;\n",
              "      display: none;\n",
              "      fill: #1967D2;\n",
              "      height: 32px;\n",
              "      padding: 0 0 0 0;\n",
              "      width: 32px;\n",
              "    }\n",
              "\n",
              "    .colab-df-convert:hover {\n",
              "      background-color: #E2EBFA;\n",
              "      box-shadow: 0px 1px 2px rgba(60, 64, 67, 0.3), 0px 1px 3px 1px rgba(60, 64, 67, 0.15);\n",
              "      fill: #174EA6;\n",
              "    }\n",
              "\n",
              "    [theme=dark] .colab-df-convert {\n",
              "      background-color: #3B4455;\n",
              "      fill: #D2E3FC;\n",
              "    }\n",
              "\n",
              "    [theme=dark] .colab-df-convert:hover {\n",
              "      background-color: #434B5C;\n",
              "      box-shadow: 0px 1px 3px 1px rgba(0, 0, 0, 0.15);\n",
              "      filter: drop-shadow(0px 1px 2px rgba(0, 0, 0, 0.3));\n",
              "      fill: #FFFFFF;\n",
              "    }\n",
              "  </style>\n",
              "\n",
              "      <script>\n",
              "        const buttonEl =\n",
              "          document.querySelector('#df-a11b0662-6a0d-48f6-847e-111ebc658926 button.colab-df-convert');\n",
              "        buttonEl.style.display =\n",
              "          google.colab.kernel.accessAllowed ? 'block' : 'none';\n",
              "\n",
              "        async function convertToInteractive(key) {\n",
              "          const element = document.querySelector('#df-a11b0662-6a0d-48f6-847e-111ebc658926');\n",
              "          const dataTable =\n",
              "            await google.colab.kernel.invokeFunction('convertToInteractive',\n",
              "                                                     [key], {});\n",
              "          if (!dataTable) return;\n",
              "\n",
              "          const docLinkHtml = 'Like what you see? Visit the ' +\n",
              "            '<a target=\"_blank\" href=https://colab.research.google.com/notebooks/data_table.ipynb>data table notebook</a>'\n",
              "            + ' to learn more about interactive tables.';\n",
              "          element.innerHTML = '';\n",
              "          dataTable['output_type'] = 'display_data';\n",
              "          await google.colab.output.renderOutput(dataTable, element);\n",
              "          const docLink = document.createElement('div');\n",
              "          docLink.innerHTML = docLinkHtml;\n",
              "          element.appendChild(docLink);\n",
              "        }\n",
              "      </script>\n",
              "    </div>\n",
              "  </div>\n",
              "  "
            ],
            "text/plain": [
              "  Item_Identifier  Item_Weight  ...        Outlet_Type  Item_Outlet_Sales\n",
              "0           FDA15         9.30  ...  Supermarket Type1          3735.1380\n",
              "1           DRC01         5.92  ...  Supermarket Type2           443.4228\n",
              "2           FDN15        17.50  ...  Supermarket Type1          2097.2700\n",
              "3           FDX07        19.20  ...      Grocery Store           732.3800\n",
              "4           NCD19         8.93  ...  Supermarket Type1           994.7052\n",
              "\n",
              "[5 rows x 12 columns]"
            ]
          },
          "metadata": {},
          "execution_count": 3
        }
      ]
    },
    {
      "cell_type": "code",
      "source": [
        "df.columns"
      ],
      "metadata": {
        "colab": {
          "base_uri": "https://localhost:8080/"
        },
        "id": "_MWdYHTG1JRy",
        "outputId": "4294b4ab-36fa-4d07-d90d-47a07dba9251"
      },
      "execution_count": 4,
      "outputs": [
        {
          "output_type": "execute_result",
          "data": {
            "text/plain": [
              "Index(['Item_Identifier', 'Item_Weight', 'Item_Fat_Content', 'Item_Visibility',\n",
              "       'Item_Type', 'Item_MRP', 'Outlet_Identifier',\n",
              "       'Outlet_Establishment_Year', 'Outlet_Size', 'Outlet_Location_Type',\n",
              "       'Outlet_Type', 'Item_Outlet_Sales'],\n",
              "      dtype='object')"
            ]
          },
          "metadata": {},
          "execution_count": 4
        }
      ]
    },
    {
      "cell_type": "code",
      "source": [
        "df.drop(['Item_Identifier','Outlet_Identifier'],axis=1,inplace = True)"
      ],
      "metadata": {
        "id": "G21hJqwGz_4s"
      },
      "execution_count": 5,
      "outputs": []
    },
    {
      "cell_type": "code",
      "source": [
        "df.head()"
      ],
      "metadata": {
        "colab": {
          "base_uri": "https://localhost:8080/",
          "height": 206
        },
        "id": "aO2-EAAr2iBK",
        "outputId": "1cb1cb4d-7aec-4a6f-87ae-85f34ba32996"
      },
      "execution_count": 7,
      "outputs": [
        {
          "output_type": "execute_result",
          "data": {
            "text/html": [
              "\n",
              "  <div id=\"df-be94d85e-7e64-4336-b174-ff0a0ccbc0ec\">\n",
              "    <div class=\"colab-df-container\">\n",
              "      <div>\n",
              "<style scoped>\n",
              "    .dataframe tbody tr th:only-of-type {\n",
              "        vertical-align: middle;\n",
              "    }\n",
              "\n",
              "    .dataframe tbody tr th {\n",
              "        vertical-align: top;\n",
              "    }\n",
              "\n",
              "    .dataframe thead th {\n",
              "        text-align: right;\n",
              "    }\n",
              "</style>\n",
              "<table border=\"1\" class=\"dataframe\">\n",
              "  <thead>\n",
              "    <tr style=\"text-align: right;\">\n",
              "      <th></th>\n",
              "      <th>Item_Weight</th>\n",
              "      <th>Item_Fat_Content</th>\n",
              "      <th>Item_Visibility</th>\n",
              "      <th>Item_Type</th>\n",
              "      <th>Item_MRP</th>\n",
              "      <th>Outlet_Establishment_Year</th>\n",
              "      <th>Outlet_Size</th>\n",
              "      <th>Outlet_Location_Type</th>\n",
              "      <th>Outlet_Type</th>\n",
              "      <th>Item_Outlet_Sales</th>\n",
              "    </tr>\n",
              "  </thead>\n",
              "  <tbody>\n",
              "    <tr>\n",
              "      <th>0</th>\n",
              "      <td>9.30</td>\n",
              "      <td>Low Fat</td>\n",
              "      <td>0.016047</td>\n",
              "      <td>Dairy</td>\n",
              "      <td>249.8092</td>\n",
              "      <td>1999</td>\n",
              "      <td>Medium</td>\n",
              "      <td>Tier 1</td>\n",
              "      <td>Supermarket Type1</td>\n",
              "      <td>3735.1380</td>\n",
              "    </tr>\n",
              "    <tr>\n",
              "      <th>1</th>\n",
              "      <td>5.92</td>\n",
              "      <td>Regular</td>\n",
              "      <td>0.019278</td>\n",
              "      <td>Soft Drinks</td>\n",
              "      <td>48.2692</td>\n",
              "      <td>2009</td>\n",
              "      <td>Medium</td>\n",
              "      <td>Tier 3</td>\n",
              "      <td>Supermarket Type2</td>\n",
              "      <td>443.4228</td>\n",
              "    </tr>\n",
              "    <tr>\n",
              "      <th>2</th>\n",
              "      <td>17.50</td>\n",
              "      <td>Low Fat</td>\n",
              "      <td>0.016760</td>\n",
              "      <td>Meat</td>\n",
              "      <td>141.6180</td>\n",
              "      <td>1999</td>\n",
              "      <td>Medium</td>\n",
              "      <td>Tier 1</td>\n",
              "      <td>Supermarket Type1</td>\n",
              "      <td>2097.2700</td>\n",
              "    </tr>\n",
              "    <tr>\n",
              "      <th>3</th>\n",
              "      <td>19.20</td>\n",
              "      <td>Regular</td>\n",
              "      <td>0.000000</td>\n",
              "      <td>Fruits and Vegetables</td>\n",
              "      <td>182.0950</td>\n",
              "      <td>1998</td>\n",
              "      <td>NaN</td>\n",
              "      <td>Tier 3</td>\n",
              "      <td>Grocery Store</td>\n",
              "      <td>732.3800</td>\n",
              "    </tr>\n",
              "    <tr>\n",
              "      <th>4</th>\n",
              "      <td>8.93</td>\n",
              "      <td>Low Fat</td>\n",
              "      <td>0.000000</td>\n",
              "      <td>Household</td>\n",
              "      <td>53.8614</td>\n",
              "      <td>1987</td>\n",
              "      <td>High</td>\n",
              "      <td>Tier 3</td>\n",
              "      <td>Supermarket Type1</td>\n",
              "      <td>994.7052</td>\n",
              "    </tr>\n",
              "  </tbody>\n",
              "</table>\n",
              "</div>\n",
              "      <button class=\"colab-df-convert\" onclick=\"convertToInteractive('df-be94d85e-7e64-4336-b174-ff0a0ccbc0ec')\"\n",
              "              title=\"Convert this dataframe to an interactive table.\"\n",
              "              style=\"display:none;\">\n",
              "        \n",
              "  <svg xmlns=\"http://www.w3.org/2000/svg\" height=\"24px\"viewBox=\"0 0 24 24\"\n",
              "       width=\"24px\">\n",
              "    <path d=\"M0 0h24v24H0V0z\" fill=\"none\"/>\n",
              "    <path d=\"M18.56 5.44l.94 2.06.94-2.06 2.06-.94-2.06-.94-.94-2.06-.94 2.06-2.06.94zm-11 1L8.5 8.5l.94-2.06 2.06-.94-2.06-.94L8.5 2.5l-.94 2.06-2.06.94zm10 10l.94 2.06.94-2.06 2.06-.94-2.06-.94-.94-2.06-.94 2.06-2.06.94z\"/><path d=\"M17.41 7.96l-1.37-1.37c-.4-.4-.92-.59-1.43-.59-.52 0-1.04.2-1.43.59L10.3 9.45l-7.72 7.72c-.78.78-.78 2.05 0 2.83L4 21.41c.39.39.9.59 1.41.59.51 0 1.02-.2 1.41-.59l7.78-7.78 2.81-2.81c.8-.78.8-2.07 0-2.86zM5.41 20L4 18.59l7.72-7.72 1.47 1.35L5.41 20z\"/>\n",
              "  </svg>\n",
              "      </button>\n",
              "      \n",
              "  <style>\n",
              "    .colab-df-container {\n",
              "      display:flex;\n",
              "      flex-wrap:wrap;\n",
              "      gap: 12px;\n",
              "    }\n",
              "\n",
              "    .colab-df-convert {\n",
              "      background-color: #E8F0FE;\n",
              "      border: none;\n",
              "      border-radius: 50%;\n",
              "      cursor: pointer;\n",
              "      display: none;\n",
              "      fill: #1967D2;\n",
              "      height: 32px;\n",
              "      padding: 0 0 0 0;\n",
              "      width: 32px;\n",
              "    }\n",
              "\n",
              "    .colab-df-convert:hover {\n",
              "      background-color: #E2EBFA;\n",
              "      box-shadow: 0px 1px 2px rgba(60, 64, 67, 0.3), 0px 1px 3px 1px rgba(60, 64, 67, 0.15);\n",
              "      fill: #174EA6;\n",
              "    }\n",
              "\n",
              "    [theme=dark] .colab-df-convert {\n",
              "      background-color: #3B4455;\n",
              "      fill: #D2E3FC;\n",
              "    }\n",
              "\n",
              "    [theme=dark] .colab-df-convert:hover {\n",
              "      background-color: #434B5C;\n",
              "      box-shadow: 0px 1px 3px 1px rgba(0, 0, 0, 0.15);\n",
              "      filter: drop-shadow(0px 1px 2px rgba(0, 0, 0, 0.3));\n",
              "      fill: #FFFFFF;\n",
              "    }\n",
              "  </style>\n",
              "\n",
              "      <script>\n",
              "        const buttonEl =\n",
              "          document.querySelector('#df-be94d85e-7e64-4336-b174-ff0a0ccbc0ec button.colab-df-convert');\n",
              "        buttonEl.style.display =\n",
              "          google.colab.kernel.accessAllowed ? 'block' : 'none';\n",
              "\n",
              "        async function convertToInteractive(key) {\n",
              "          const element = document.querySelector('#df-be94d85e-7e64-4336-b174-ff0a0ccbc0ec');\n",
              "          const dataTable =\n",
              "            await google.colab.kernel.invokeFunction('convertToInteractive',\n",
              "                                                     [key], {});\n",
              "          if (!dataTable) return;\n",
              "\n",
              "          const docLinkHtml = 'Like what you see? Visit the ' +\n",
              "            '<a target=\"_blank\" href=https://colab.research.google.com/notebooks/data_table.ipynb>data table notebook</a>'\n",
              "            + ' to learn more about interactive tables.';\n",
              "          element.innerHTML = '';\n",
              "          dataTable['output_type'] = 'display_data';\n",
              "          await google.colab.output.renderOutput(dataTable, element);\n",
              "          const docLink = document.createElement('div');\n",
              "          docLink.innerHTML = docLinkHtml;\n",
              "          element.appendChild(docLink);\n",
              "        }\n",
              "      </script>\n",
              "    </div>\n",
              "  </div>\n",
              "  "
            ],
            "text/plain": [
              "   Item_Weight Item_Fat_Content  ...        Outlet_Type Item_Outlet_Sales\n",
              "0         9.30          Low Fat  ...  Supermarket Type1         3735.1380\n",
              "1         5.92          Regular  ...  Supermarket Type2          443.4228\n",
              "2        17.50          Low Fat  ...  Supermarket Type1         2097.2700\n",
              "3        19.20          Regular  ...      Grocery Store          732.3800\n",
              "4         8.93          Low Fat  ...  Supermarket Type1          994.7052\n",
              "\n",
              "[5 rows x 10 columns]"
            ]
          },
          "metadata": {},
          "execution_count": 7
        }
      ]
    },
    {
      "cell_type": "markdown",
      "source": [
        "## EDA"
      ],
      "metadata": {
        "id": "n4-DJLIa20f8"
      }
    },
    {
      "cell_type": "code",
      "source": [
        "#check null value\n",
        "\n",
        "df.isnull().sum()"
      ],
      "metadata": {
        "colab": {
          "base_uri": "https://localhost:8080/"
        },
        "id": "3R2H57yG2h6s",
        "outputId": "0d9ef3a4-a46f-4dda-d840-93a7078a140b"
      },
      "execution_count": 8,
      "outputs": [
        {
          "output_type": "execute_result",
          "data": {
            "text/plain": [
              "Item_Weight                  1463\n",
              "Item_Fat_Content                0\n",
              "Item_Visibility                 0\n",
              "Item_Type                       0\n",
              "Item_MRP                        0\n",
              "Outlet_Establishment_Year       0\n",
              "Outlet_Size                  2410\n",
              "Outlet_Location_Type            0\n",
              "Outlet_Type                     0\n",
              "Item_Outlet_Sales               0\n",
              "dtype: int64"
            ]
          },
          "metadata": {},
          "execution_count": 8
        }
      ]
    },
    {
      "cell_type": "markdown",
      "source": [
        "1. For missing data, categorical data we can impute with the mode\n",
        "2. For numerical data, mean or median can be imputed"
      ],
      "metadata": {
        "id": "--FhjI6t3ES0"
      }
    },
    {
      "cell_type": "code",
      "source": [
        "fig = px.box(df,y='Item_Weight')\n",
        "fig.show()"
      ],
      "metadata": {
        "colab": {
          "base_uri": "https://localhost:8080/",
          "height": 542
        },
        "id": "ow9SJPGm2hzd",
        "outputId": "4afbcc27-d092-43ae-84f9-872add03ad4d"
      },
      "execution_count": 9,
      "outputs": [
        {
          "output_type": "display_data",
          "data": {
            "text/html": [
              "<html>\n",
              "<head><meta charset=\"utf-8\" /></head>\n",
              "<body>\n",
              "    <div>\n",
              "            <script src=\"https://cdnjs.cloudflare.com/ajax/libs/mathjax/2.7.5/MathJax.js?config=TeX-AMS-MML_SVG\"></script><script type=\"text/javascript\">if (window.MathJax) {MathJax.Hub.Config({SVG: {font: \"STIX-Web\"}});}</script>\n",
              "                <script type=\"text/javascript\">window.PlotlyConfig = {MathJaxConfig: 'local'};</script>\n",
              "        <script src=\"https://cdn.plot.ly/plotly-latest.min.js\"></script>    \n",
              "            <div id=\"3b935f79-d45e-4df9-a1b1-e7664d456b2f\" class=\"plotly-graph-div\" style=\"height:525px; width:100%;\"></div>\n",
              "            <script type=\"text/javascript\">\n",
              "                \n",
              "                    window.PLOTLYENV=window.PLOTLYENV || {};\n",
              "                    \n",
              "                if (document.getElementById(\"3b935f79-d45e-4df9-a1b1-e7664d456b2f\")) {\n",
              "                    Plotly.newPlot(\n",
              "                        '3b935f79-d45e-4df9-a1b1-e7664d456b2f',\n",
              "                        [{\"alignmentgroup\": \"True\", \"hoverlabel\": {\"namelength\": 0}, \"hovertemplate\": \"Item_Weight=%{y}\", \"legendgroup\": \"\", \"marker\": {\"color\": \"#636efa\"}, \"name\": \"\", \"notched\": false, \"offsetgroup\": \"\", \"orientation\": \"v\", \"showlegend\": false, \"type\": \"box\", \"x0\": \" \", \"xaxis\": \"x\", \"y\": [9.3, 5.92, 17.5, 19.2, 8.93, 10.395, 13.65, null, 16.2, 19.2, 11.8, 18.5, 15.1, 17.6, 16.35, 9.0, 11.8, 9.0, null, 13.35, 18.85, null, 14.6, null, 13.85, 13.0, 7.645, 11.65, 5.925, null, 19.25, 18.6, 18.7, 17.85, 17.5, 10.0, null, 8.85, null, null, 13.35, 9.8, 13.6, 21.35, 12.15, 6.42, 19.6, 10.0, 15.85, null, 7.39, 10.195, 9.895, 10.895, 12.15, 7.905, 9.195, 8.365, 15.1, null, 10.0, 7.97, null, null, null, 17.7, 19.35, 13.65, 17.6, 8.645, 15.6, 15.85, 18.25, 7.855, 7.825, 8.39, 12.85, null, 19.0, 5.905, 7.76, 11.8, 16.75, null, null, 15.5, 6.055, null, 6.305, 20.85, 20.75, 8.895, 19.6, 19.7, 9.8, null, 12.15, 8.75, null, 8.75, 13.3, null, 8.31, 16.75, 19.75, 17.1, 10.5, 6.635, null, 14.15, 13.3, 8.89, null, null, 9.1, 7.5, 16.85, 7.485, 11.6, 11.65, 13.0, 12.65, 20.25, 8.6, 12.6, 17.7, 14.15, 19.25, 8.88, 20.5, null, 13.5, null, 8.89, 7.855, 7.235, null, 6.92, 9.3, 18.5, 8.02, 9.195, 12.8, 16.6, 14.0, 18.6, 16.0, 17.6, 21.25, 7.235, 14.6, 13.85, 13.65, null, 7.365, 18.35, 5.465, 18.6, 13.85, 14.0, 14.0, null, 5.905, 7.27, 6.155, 19.5, 15.2, 12.15, null, 12.6, 14.5, 16.6, 11.8, 13.1, 17.7, 17.85, 12.3, 11.8, null, 11.1, null, 11.3, null, 5.75, null, 11.35, null, 14.0, 19.75, 6.525, 10.3, 5.78, 11.85, 16.35, null, 10.5, 19.0, 14.6, null, null, 18.75, 5.26, 18.25, null, 15.1, 15.5, 13.65, 16.1, null, 12.85, 9.5, 13.8, 5.78, 19.7, 14.65, 6.67, 6.11, 13.65, 17.2, 6.32, 4.88, 5.425, 15.85, 7.5, 12.65, null, 20.75, null, 9.0, null, null, null, 14.1, 7.55, 13.0, null, null, 12.3, null, null, 17.25, 15.85, 18.85, 16.35, 14.1, 7.905, 12.0, 12.15, 10.1, 17.5, null, 17.1, 7.785, 11.8, 13.15, null, 8.5, 8.645, 17.6, 9.1, 12.8, 7.63, 9.285, 13.6, 8.895, 16.35, 17.6, 7.975, 15.85, 15.7, 8.985, 20.35, 6.59, 19.85, 16.85, null, 16.75, 17.6, 7.905, null, 7.785, 7.825, null, 20.75, null, 6.26, 18.2, 13.0, 20.25, 8.695, 7.27, null, 12.85, 7.075, null, 8.195, 7.09, 6.095, 19.35, 6.15, null, null, 17.7, 17.85, 9.395, 15.75, 7.475, 7.075, 6.445, 19.1, 20.25, 15.0, 6.67, null, 16.7, 7.07, 6.48, 19.0, 13.35, null, null, 9.695, 15.0, 11.15, 20.85, 9.8, 16.35, 9.6, null, 13.35, 20.7, null, 16.2, null, null, null, 5.5, 15.1, 15.7, 7.895, null, 17.35, 7.285, 20.25, null, 15.85, 6.17, 19.5, 19.2, 16.7, 20.85, 14.5, 11.395, 7.97, 7.71, 19.25, 7.075, null, 11.6, null, 12.1, 10.0, 14.35, 10.395, null, 8.1, 8.05, 9.195, 20.7, 15.7, null, null, 16.5, 9.0, 6.785, 19.5, 7.575, 18.2, 16.75, 7.47, null, null, 13.85, 6.635, 6.11, 15.25, 15.85, 15.2, null, 20.75, 10.195, 7.605, 18.0, null, 18.35, 6.59, 13.8, 21.2, 10.5, 8.97, null, 10.6, 13.65, 19.0, null, null, 6.865, 10.8, 16.7, null, 15.15, 10.5, 17.6, 19.35, 15.7, 18.1, 10.195, null, 6.655, 19.0, 7.075, 13.15, 20.1, 20.35, 18.85, 16.35, 11.3, 17.5, 18.0, 7.935, null, 20.25, 15.5, null, null, 15.35, 10.1, 16.7, 20.7, 16.0, 14.0, 12.85, 20.85, 12.35, 6.85, 10.3, null, 8.775, 18.85, null, 14.85, 20.5, 7.84, 18.25, 10.3, 12.5, null, 20.25, null, 15.0, 8.325, 15.85, 13.1, 6.26, 17.25, 5.765, 13.6, 10.5, 7.975, 12.65, 12.3, 5.985, null, 15.15, 12.35, 14.3, 8.695, 16.35, 6.135, 19.5, 9.5, 8.895, 18.25, 21.35, 19.7, null, 16.6, null, 10.895, null, null, null, 8.51, 14.15, 6.65, 15.25, 18.25, null, 16.0, 19.2, 12.15, 8.895, 10.895, 16.0, null, 9.195, 11.35, 10.0, 9.395, null, 20.75, 9.8, 5.695, 18.2, 19.35, 18.35, 6.36, 9.8, null, null, 6.635, 18.1, 8.93, 8.3, 8.895, 16.35, 8.6, null, 19.0, 7.56, 12.6, 15.6, 8.71, 18.1, 13.35, 16.6, 6.695, null, 16.6, 15.35, 19.7, 14.3, null, 10.0, 14.8, null, 8.71, 12.15, 17.85, 9.5, 11.8, 14.1, null, 19.35, 19.75, 10.3, null, null, 10.8, 17.75, 8.575, 19.1, 20.7, null, 6.785, 6.57, 5.78, 6.92, 20.25, 13.65, 13.5, 16.5, 16.7, 8.68, null, 7.235, 16.75, 15.35, 10.8, 6.26, 5.63, 6.92, 12.15, 16.6, 9.195, 19.0, 9.395, 9.8, null, 18.85, 9.13, 9.0, 17.1, 6.715, 5.82, 18.7, 7.93, 18.75, null, 5.0, 7.445, 20.85, 20.85, 19.2, 17.35, 14.3, 19.5, 6.675, 8.18, 6.98, null, 16.85, 14.8, 12.3, 7.435, 15.1, 9.195, 10.1, 16.0, 17.7, 8.1, 20.6, 20.35, 8.195, 17.75, 7.475, 19.0, 12.6, null, 7.895, null, 17.1, 8.355, null, 18.5, null, 8.975, 10.1, 9.285, 11.6, null, 12.5, 16.0, 14.15, 20.2, 13.65, 17.25, 5.655, 20.75, 5.175, 20.0, 11.8, 16.75, 18.35, 12.8, 19.75, 8.75, 13.3, 18.85, 9.695, 20.7, null, 11.1, 8.975, 12.15, 7.67, 13.8, 4.785, 20.0, null, 8.395, 6.175, 8.21, 19.7, 19.6, 7.5, 5.845, 11.395, 7.17, 5.75, 15.5, 7.76, 13.65, 10.8, 11.1, null, 12.8, 8.785, 20.6, 7.89, 16.85, 16.35, null, 17.35, null, null, 12.6, 5.32, null, 13.0, null, 19.85, 17.6, 14.6, 7.55, 13.8, 17.25, 10.1, 14.3, 9.8, 11.3, 7.67, 13.8, 10.395, 20.7, null, 17.35, 16.35, 19.35, 15.2, 14.3, null, 20.0, null, 10.1, null, null, 8.18, 19.5, 18.7, 12.35, 16.0, 8.395, 4.785, 5.03, 15.6, 7.285, 20.35, 17.7, null, 20.25, 8.945, null, 18.25, 20.35, 16.75, 12.1, 18.5, 15.0, 19.5, 13.65, 13.15, null, 20.6, 6.28, 5.925, 17.7, 18.85, null, 17.5, 17.7, 16.1, 9.8, 7.565, 17.6, 12.15, 9.31, 19.25, 9.5, 15.35, null, null, 17.85, 7.02, null, null, 12.3, 5.46, 15.1, 11.8, 19.25, 13.65, 13.35, null, 13.15, 14.3, 12.3, 7.825, 19.1, 8.71, 19.6, 19.5, 15.85, null, 17.6, null, 19.1, 6.13, 6.55, 16.5, 17.0, 10.5, 8.93, null, 16.1, null, 5.82, 16.25, 13.35, null, 5.15, null, 7.865, 9.895, 17.35, 8.365, 6.675, null, 17.35, 16.75, 18.85, 6.575, 12.65, 15.2, null, 7.07, 13.65, null, 7.06, 11.8, null, 9.3, null, null, 13.6, 19.5, 19.35, null, 13.1, 16.7, 5.785, null, 6.13, 9.8, null, 7.42, 16.7, null, 9.0, null, 6.36, 17.7, 16.5, null, null, 11.85, 10.195, null, null, 13.65, 20.35, 20.2, 13.85, 8.05, 7.365, 12.5, 7.42, null, 6.235, 12.35, 6.75, 16.75, 19.35, 9.6, 19.85, 15.1, null, 6.59, 16.75, 15.2, 13.0, 5.86, 11.395, 20.85, null, 5.035, 11.15, 6.38, 8.39, 5.675, 15.7, 13.0, null, 13.5, 8.895, 10.895, 16.2, null, 15.1, 7.475, null, 10.8, 20.0, 14.3, 10.1, 17.85, 9.5, 20.75, 12.1, 20.6, 7.67, null, 20.6, 15.35, 5.46, 9.395, null, 10.0, null, 7.445, null, 15.5, 19.85, 11.5, null, 10.5, 19.7, null, 10.3, 20.85, 13.35, 12.1, 20.1, null, 21.25, null, 6.655, 13.65, null, 13.6, 15.5, 10.895, 19.7, 8.1, 21.0, 13.65, null, null, null, 13.15, 15.25, 19.35, null, 17.75, 20.7, 9.5, 11.65, 21.1, 7.865, 12.35, null, 16.25, 12.15, 10.5, 12.8, null, 4.61, 7.0, 10.0, 6.405, 9.3, 11.6, 16.75, 12.15, 14.7, 20.0, null, 7.39, 20.75, 9.3, 10.195, null, 7.68, 10.195, 9.3, 8.895, 16.0, 19.2, 20.75, null, 13.5, null, 19.7, 6.095, 8.21, 17.7, 18.1, 5.695, 20.25, null, null, 8.185, 18.2, 19.25, 14.5, 9.5, 19.85, 8.655, 10.195, null, 14.0, 8.39, 11.65, 14.5, null, 18.2, null, 10.85, 17.25, 13.65, 12.15, 13.1, 13.6, 20.1, 16.35, null, 6.235, 8.42, null, 9.5, 12.5, 12.6, 16.85, null, 6.635, 20.2, 14.1, 15.15, 13.65, null, null, null, 12.15, null, 13.5, 17.5, null, 7.85, 9.695, 17.5, 9.195, null, 21.1, 10.195, 17.85, 15.6, 16.1, 13.3, 12.85, 11.5, 16.25, 14.65, 13.15, 8.895, 15.7, 16.75, 10.3, 8.05, 18.6, 20.75, 13.5, 8.18, 17.25, 20.0, 16.5, 9.8, 17.25, 15.85, null, 18.0, null, 16.0, 4.59, 11.85, null, null, 18.2, 7.825, null, 8.895, 18.5, 14.85, null, 7.51, 15.6, 8.02, 11.0, null, 17.5, 7.235, null, null, 18.0, 16.1, 7.475, 16.5, 11.35, 16.1, 18.7, 8.645, 17.1, 9.8, null, null, 15.25, 10.5, 5.82, 10.0, 5.5, 18.35, 19.0, 6.71, 10.3, 18.35, 13.8, 10.5, 20.75, null, 9.895, null, null, null, 11.1, 10.1, null, 14.0, null, 9.395, null, null, 6.13, 8.5, null, 9.1, 15.25, 13.5, 10.8, 15.2, 19.35, null, 11.5, 9.8, 7.475, 9.8, null, 14.75, 5.5, 17.2, 19.2, null, 14.85, 7.565, 18.25, 9.6, 7.855, 10.1, 10.395, 16.25, 17.6, 15.5, 7.59, null, 11.1, null, 16.1, 5.155, null, null, 6.365, 11.65, 18.25, 11.8, 18.2, 13.65, 8.365, null, 20.7, 17.75, 18.0, 9.695, 6.42, 10.6, 5.03, 7.825, null, 17.7, 8.235, 11.6, 17.2, 11.0, 19.6, 8.02, 5.365, 11.35, null, 16.35, 17.25, 13.8, 8.485, 11.8, 15.35, 10.0, 19.2, 18.6, 18.5, 20.25, 12.35, 14.5, 14.8, 14.0, 10.8, 14.65, null, 6.65, 6.59, null, 9.395, 19.75, 7.56, 20.25, 20.6, 6.575, 19.7, 13.5, 6.28, 18.25, 9.3, 16.6, 16.35, 10.0, null, 7.535, 4.92, 6.385, 18.5, 11.6, 17.35, 16.7, 10.895, 18.35, 18.75, 9.3, null, 8.26, 12.8, 16.75, null, 10.895, 16.85, 20.0, 16.0, 16.0, 8.93, 9.6, null, null, 9.8, 9.6, null, 7.945, 7.475, 14.85, 16.6, 10.5, 8.63, 21.0, 15.5, 14.7, 13.15, 17.7, null, 9.21, 12.1, 9.31, 14.85, null, 6.92, 13.65, 16.0, 16.35, null, 4.88, 6.965, 16.0, 18.85, 20.7, 9.3, 9.695, 17.25, 19.6, 14.3, 12.6, 13.1, null, 17.85, 8.905, 18.5, 20.25, 10.3, 17.85, 7.21, 16.1, null, null, 17.35, 10.0, 18.6, 16.75, 17.75, 9.0, 6.42, 16.75, 7.39, 19.2, null, 5.46, 17.5, 12.3, 17.0, null, 19.7, 19.6, 14.5, 19.35, 9.195, 16.25, 20.7, 20.0, null, 11.8, 11.8, 19.1, 15.5, 9.5, 12.85, 11.65, 15.6, 18.85, 6.865, 11.65, null, 20.5, 20.35, 10.895, 7.3, 11.1, 7.06, 9.8, 9.5, 17.6, 11.8, 9.695, 16.5, null, 9.0, 12.6, null, 14.35, 13.6, 13.85, 16.1, 18.25, 12.15, 15.35, null, 15.35, 18.25, 11.8, 9.27, null, 12.8, 15.0, 12.5, 17.35, 7.975, 10.5, null, 14.35, 12.35, 10.195, 18.5, 11.5, 12.5, null, 10.695, 14.15, 17.6, null, 6.215, 18.1, 11.65, 7.42, 20.0, 17.75, 14.0, 15.35, 6.13, 9.695, 20.25, null, 15.85, 19.85, 4.61, 7.365, null, 18.85, null, 11.3, 7.405, 15.7, 7.72, 6.65, 10.6, null, 15.85, 12.15, 11.35, 20.1, 15.7, null, 16.7, 6.115, 20.7, 9.8, null, 20.35, null, 6.85, 20.35, 9.195, 9.695, null, 11.65, 6.035, 18.2, null, 7.63, 6.385, 9.6, 20.5, null, 18.35, 19.6, 14.15, null, null, 17.6, 19.0, 8.42, 9.3, 19.75, 6.78, null, 17.25, 15.3, 15.7, 17.85, null, 15.3, 16.25, 15.0, 13.85, null, 13.8, 7.475, 18.7, 12.5, 15.85, null, 20.75, 5.82, 5.785, 13.1, 10.1, 16.75, null, 17.1, 7.42, 7.51, null, null, 19.2, 18.6, 7.105, 4.92, 11.0, 7.68, 13.15, 7.52, 8.895, 4.805, null, 7.785, 8.975, null, 9.3, 10.895, 15.0, 12.15, 16.7, 15.1, 8.02, 19.35, 20.7, null, 4.59, 18.1, 12.85, 16.75, 14.85, 8.235, 6.425, 6.59, null, null, 6.36, 17.35, 8.6, 17.7, 7.6, 19.6, null, 9.3, 20.2, 11.35, 16.5, 17.1, 4.88, 10.195, 12.8, null, 8.05, 20.6, 6.32, 5.465, 18.25, 14.5, 15.7, 9.6, 20.7, 6.055, 5.655, 6.78, null, 6.865, 6.61, null, 12.6, 6.055, 20.2, null, 14.15, 16.5, 13.3, 9.195, null, 9.0, 15.7, 18.1, null, 15.7, 9.195, null, 13.85, 20.2, null, 13.65, 15.0, 10.695, null, 14.0, 6.655, 16.5, 9.6, 6.55, 16.25, 15.25, 9.695, null, 16.0, 15.85, null, 18.85, 6.215, null, 11.8, 7.325, 10.5, 15.7, null, 13.0, 13.5, 6.865, 7.785, 17.7, 20.2, 7.855, 6.36, 17.0, 5.78, 11.5, null, 18.2, 18.25, 12.6, 8.575, 18.2, 8.115, 12.65, null, 8.775, 5.94, 18.85, 9.8, 12.65, 20.7, 14.65, null, 15.85, 17.25, 16.0, 6.32, 6.525, 6.695, 14.85, 17.1, 10.3, 19.7, 10.695, 7.285, 17.7, 18.25, 5.175, 5.635, 6.035, 14.8, 18.25, 16.1, 16.75, 17.7, 8.88, 18.2, 11.15, 20.0, 7.935, 20.1, 13.65, 6.635, 18.25, 11.15, 19.5, 6.48, 11.15, 5.985, 7.27, 6.78, 9.195, 19.5, 6.59, 7.51, null, null, null, 12.5, 17.0, null, 12.65, 12.5, 18.7, 11.0, null, 7.35, 10.895, 17.2, 15.5, 7.905, 9.8, 11.6, null, null, 5.825, 16.35, 14.7, 11.6, 16.75, 12.5, 12.6, 12.35, 13.35, null, null, null, 6.63, 6.61, 19.6, 13.6, null, 19.25, null, 20.0, null, 20.75, 7.235, null, 6.78, 7.3, 12.3, 16.85, 14.65, 15.6, 17.35, 16.0, 17.0, 11.5, 5.695, 15.2, 9.1, 16.85, 11.15, 17.0, 7.47, 20.7, 15.6, 17.7, 13.0, 14.0, 18.85, 15.7, 15.85, 6.175, null, 16.0, 13.15, 16.5, 14.65, 13.5, 10.1, 11.85, 9.285, 12.8, 6.235, 12.15, null, 12.35, 9.195, 16.2, 7.285, 7.05, null, 14.5, 13.35, 11.5, 12.1, 11.8, 7.05, null, 18.75, 19.25, 16.2, 8.31, 13.1, 13.5, 11.15, 7.5, null, 15.6, null, 6.78, 16.0, null, 10.5, 17.1, 7.535, 15.1, 15.1, 10.0, 20.85, 16.7, 8.315, null, 16.75, null, 12.5, 6.8, 7.3, 15.85, 12.1, 9.195, 7.59, 12.15, 19.75, 18.85, 12.15, 13.1, null, null, 7.895, null, 16.75, 16.35, 8.21, 15.85, 16.2, 17.5, null, 13.65, 11.35, 10.8, 7.47, 19.85, 8.39, 10.8, 15.0, 17.35, 14.1, 19.2, 15.6, null, 20.5, null, 10.6, 15.1, 7.035, 16.0, 13.65, 18.85, 6.115, 8.96, 19.6, 9.195, 8.97, 12.35, 9.3, 17.7, 7.27, 20.7, 16.1, null, 20.75, 20.2, 5.51, 20.2, 14.7, 20.0, 17.1, 11.5, 11.15, 16.2, 16.1, null, 15.0, 12.8, 5.985, 19.35, 16.6, null, 11.5, 8.88, 11.6, 9.8, 9.395, 12.3, 16.1, 19.1, 8.43, 14.5, 8.27, 7.02, 20.0, 7.81, null, 13.1, 15.2, 10.8, 12.6, 12.15, 7.42, null, 6.885, null, 20.25, 15.3, 9.21, 15.6, 15.35, 12.15, null, 11.395, 17.1, 18.85, 19.6, 11.3, null, 5.785, 5.82, 9.0, null, 7.895, 13.8, 5.44, 16.7, 19.85, 10.395, null, null, 15.1, 20.5, 15.6, 16.75, 10.85, 16.2, 7.72, null, 5.785, null, 15.2, 13.1, 6.32, 17.85, null, 13.85, 5.78, null, 6.885, 8.42, 7.63, 10.5, 7.575, 13.5, 12.15, 5.405, null, 7.435, 4.635, 8.96, 18.35, 11.65, 10.5, 7.39, null, 14.0, 18.5, 13.65, 14.15, 10.1, 10.1, 13.85, 13.1, 18.75, 14.0, 16.1, null, null, 12.35, 20.7, 7.825, null, 12.1, null, 14.65, null, 20.75, 11.15, 12.1, 11.6, 17.6, null, null, 10.65, 18.35, 7.35, 18.2, 8.39, 14.3, 10.195, 14.15, 16.2, null, 12.65, null, 10.895, 5.735, 17.85, 5.82, 10.0, 17.6, null, 10.1, null, 17.6, 8.645, 19.5, 7.68, 15.7, 5.405, 20.85, 7.39, 6.465, 18.25, null, null, 10.195, 15.1, 13.65, null, null, 5.985, 9.5, 11.15, null, 18.0, null, 16.2, 13.15, 20.6, 11.395, 6.78, 8.84, 16.7, 13.3, 12.6, 7.6, 12.6, 6.67, 10.695, null, 16.6, 10.0, 19.1, 17.6, 19.5, 10.1, 8.6, 19.7, 15.35, 5.26, 9.8, 16.5, 10.5, 13.1, null, 9.3, 14.3, null, 10.8, null, 12.85, 6.78, 9.195, 7.905, 17.6, 15.7, null, 19.2, 7.405, 19.5, 9.195, 11.65, 21.1, 8.695, 7.27, 8.85, 18.6, null, 9.1, 7.975, 10.0, 6.865, 16.7, 7.285, 8.43, 20.2, 8.75, null, null, 9.695, 7.75, 19.75, 9.8, 11.8, 9.8, 7.42, 20.75, 12.6, 19.75, 10.895, 16.6, 6.765, 13.1, null, 6.155, 10.65, null, 20.25, 20.5, 11.8, 15.0, 13.15, 15.5, null, 11.6, 14.35, 13.15, 10.895, 10.1, 18.7, 12.15, 10.195, 8.575, 16.5, 9.065, 16.6, 11.6, 19.5, 16.6, 11.85, 12.85, 9.0, 5.655, 8.93, 15.2, 7.655, null, 15.5, 18.7, 9.5, 13.65, 19.5, 8.71, null, 19.6, null, 11.8, 6.715, 19.1, 20.7, 10.195, 20.2, 10.8, 19.75, 19.35, 7.405, 15.25, null, 8.895, 18.75, 20.1, 12.35, 16.85, 18.25, 17.0, null, 14.3, 17.6, null, 20.25, 18.0, 16.35, 14.0, 5.78, 21.0, 13.65, 12.3, 12.35, 11.8, 19.7, 10.1, null, 17.85, 20.7, 8.89, 14.5, 9.0, 13.35, 6.675, 10.3, null, 17.1, 14.15, 10.8, 8.5, 6.215, 17.5, 20.7, 8.975, 20.5, 13.65, 13.1, 4.615, 12.3, null, 19.2, 20.1, 11.5, 9.3, 15.2, 12.65, 11.1, null, null, 19.2, 19.75, 6.135, 12.5, 7.235, 15.85, 9.895, 20.75, 10.8, 8.76, 16.1, 7.1, 19.35, 16.7, 9.5, 8.43, 14.15, 5.44, 7.35, null, 20.1, 12.0, 21.25, 8.3, 10.1, 14.15, 9.0, 12.15, null, null, 20.0, 6.71, null, 7.365, 7.935, 12.6, 17.6, 19.0, 7.5, 13.35, 8.6, null, 10.5, 9.0, 4.61, 10.895, 17.6, 11.65, 19.1, 17.2, 16.5, 15.6, 9.0, 15.0, null, null, 6.195, 20.2, 20.7, 20.25, 7.655, null, 5.92, 18.75, 9.395, 13.35, null, 19.2, 19.0, 14.15, 20.85, 8.63, 16.7, 7.895, 7.72, 5.615, 7.05, 14.35, 8.52, 7.645, 12.1, 14.8, 20.75, 10.8, 18.35, 13.5, 20.5, 12.35, 8.895, 16.7, 16.2, 7.26, 6.65, 13.35, 17.35, null, 5.46, 18.25, 8.185, 7.5, 12.65, 14.3, 17.85, 6.425, 6.825, null, 20.25, 19.2, 17.7, 9.695, null, 7.75, null, 19.75, 5.325, null, null, null, 6.71, 14.35, 15.2, 5.82, 5.59, 18.5, null, 14.0, 7.605, null, 9.6, 17.7, 15.7, 13.65, 14.6, 15.6, 20.25, 8.02, 18.35, 16.6, 10.0, 16.1, 13.0, 16.1, 19.0, 17.6, 6.32, 9.3, 11.1, null, 6.15, 20.85, 17.1, 13.15, 16.5, 11.65, 13.15, 19.35, 19.35, 16.5, 21.35, 16.0, 20.5, 19.75, 17.6, 4.615, 5.88, 11.8, 17.35, 12.35, null, 9.0, 6.235, 9.6, 16.75, 17.1, 6.825, 6.78, 16.0, 15.0, 7.39, 17.6, 12.65, 17.85, 11.15, 15.7, 14.65, null, 18.25, 20.7, 15.85, 6.575, 17.75, null, null, null, 16.7, 10.85, 10.0, 13.65, 19.0, 9.6, 12.0, 5.925, 13.0, 8.18, 12.8, 19.2, 14.5, 5.19, 13.3, 19.6, 17.75, 12.35, 14.35, 6.365, null, null, 14.75, 12.15, 6.59, 12.6, null, null, null, null, 7.325, null, 15.1, null, 8.51, null, 20.35, 17.85, 18.25, 17.6, 10.895, 11.85, null, 14.1, 15.15, 17.25, 17.6, 14.6, 10.1, 10.5, 12.6, 18.7, 5.985, 12.1, 13.0, 19.2, 5.78, 7.17, 20.85, 18.75, 7.5, 10.395, 12.8, 11.65, 20.2, 11.35, 8.71, 8.31, 19.0, 7.5, 6.525, null, null, 6.985, 11.3, 6.115, 9.5, 15.7, 16.0, 13.1, null, 16.85, null, 14.85, 18.2, 11.0, 21.1, 15.2, null, 9.06, 11.5, 11.15, 13.5, 15.1, 8.3, 14.15, null, 8.365, 11.85, 19.6, 19.0, 18.25, 19.85, 12.85, null, 19.6, 15.7, 13.3, 10.395, 10.5, 19.35, 14.1, 8.6, 17.1, null, 20.5, 15.1, 6.69, null, 7.905, 18.0, 7.84, 15.15, 15.2, 19.85, null, 7.325, 5.88, 10.695, null, 20.25, 8.05, 11.65, 19.35, 7.235, 12.15, 8.615, 6.765, 10.3, 13.15, 8.84, 8.26, 20.1, 9.695, 18.85, 18.25, null, 5.32, 8.115, 15.1, 8.42, 9.0, 8.18, null, 15.35, 20.6, 9.3, 19.6, 11.3, null, 15.3, 8.235, 15.2, null, 9.0, 9.0, 15.35, null, 20.1, 10.3, 12.35, 8.88, 15.85, 14.1, 20.25, 16.5, 13.6, null, 20.35, 7.275, 19.7, null, null, 14.15, 19.0, null, 20.5, 6.96, 15.35, 17.1, 10.195, null, 5.78, 6.385, null, 9.3, 13.65, 9.195, 9.17, 12.6, 14.85, 19.35, 18.7, 5.46, 8.785, 12.6, 8.76, 12.3, 19.6, null, 8.155, null, 7.97, 18.85, 11.1, 9.6, 9.27, 13.35, 11.3, 19.0, 12.3, 6.425, 11.5, 5.19, 12.15, 15.25, 11.8, 15.7, 16.75, 10.8, 11.8, null, 7.81, 11.1, 12.85, 10.5, 6.135, null, null, 9.3, 16.6, 8.51, 8.645, 8.6, null, 14.5, 6.65, 20.1, 15.25, 17.7, 7.075, 11.5, 5.82, 8.785, 5.465, null, null, 15.7, 7.39, null, 6.8, null, 11.5, 17.6, 7.75, null, 18.6, 5.73, 12.15, 5.44, 17.7, null, 12.1, 8.355, 6.26, 15.75, 5.905, 16.0, 20.25, 5.175, 9.0, 15.6, 5.175, null, 18.7, 17.6, 18.2, 13.15, 8.6, null, 20.35, 7.39, 19.6, 16.25, 6.28, 9.395, 7.72, 12.65, null, 16.75, 15.5, 8.88, 18.25, 8.935, 16.0, 19.7, 20.6, 19.25, 14.15, 6.63, 11.8, null, 12.85, 11.6, null, 12.15, 4.635, 19.6, 20.2, null, 9.395, 11.395, 19.5, 18.35, 5.365, 11.8, 11.3, 19.6, 14.0, 19.7, 12.5, 12.3, 7.435, 6.48, 17.6, 8.155, 16.1, 15.5, null, 4.785, 14.6, 6.445, 4.88, 8.1, 8.395, 10.0, null, 12.35, 11.3, null, 19.5, 19.7, 7.75, 15.1, null, 11.1, 7.075, 7.97, 12.15, 14.1, null, 11.1, null, 7.42, 16.35, 19.1, null, 5.19, 11.8, 11.35, 15.2, 11.5, 20.25, 10.1, 13.1, 12.0, 19.0, 19.7, null, 18.6, 11.5, 16.75, 18.85, 6.135, 20.7, 17.6, 16.0, 8.92, 17.75, 15.6, null, 17.75, 5.73, 5.73, 9.3, 20.2, null, 12.15, 21.35, 20.2, 6.57, 19.35, 8.6, 8.51, null, 7.5, 14.3, 15.0, 14.3, 10.195, 6.825, 12.65, 11.15, 19.1, 18.85, 19.6, 15.1, null, 6.425, 8.88, 12.3, 12.85, 11.35, null, 19.0, 10.195, 8.27, 14.85, null, 18.0, 7.1, 8.355, 9.8, 18.2, null, 14.65, null, 9.695, null, 13.85, 7.75, 11.8, 12.3, 16.0, 11.5, null, 7.36, 7.64, 17.75, 17.75, 7.27, 7.67, 20.2, 16.0, 9.5, 19.1, 15.0, 7.035, 19.75, null, null, 11.8, null, null, 19.1, 13.6, 5.34, 18.2, 12.15, 14.35, 17.35, 10.695, 7.22, 19.1, 8.26, null, 14.0, 6.615, 14.15, 11.8, null, 19.2, 18.85, 17.0, 12.5, null, 8.6, 9.3, 7.27, 11.8, 16.35, null, null, 20.0, 5.82, 18.75, 9.5, null, 10.5, 20.5, 12.3, 13.1, 11.395, 8.93, 18.2, 19.7, 14.1, 7.67, null, 14.15, 11.6, 18.85, 15.6, 6.385, 16.1, 9.0, null, 6.635, null, 20.75, 6.63, 8.42, 5.15, null, null, 15.1, 15.35, null, 12.85, null, 7.475, 8.27, 12.85, 8.365, 8.985, 19.6, 16.1, 20.2, 10.3, 10.8, 16.75, null, 18.2, 9.395, null, null, null, 5.46, 12.65, 16.5, 17.35, 5.88, 12.1, 7.93, 8.43, null, 14.15, null, null, 15.1, 17.75, 12.85, 10.5, null, null, 12.35, 7.84, 6.76, 9.895, 8.315, 17.5, 11.6, 7.285, 20.6, 16.1, 11.0, 17.7, 17.35, null, 18.2, 7.825, 19.35, 8.895, 7.475, 10.5, 12.3, 6.035, 20.75, 13.85, 15.5, 11.6, null, 6.635, 6.785, 16.2, 5.94, 13.35, 6.3, 17.1, 8.355, 18.25, null, null, null, 12.65, null, 16.5, 20.85, 6.155, 7.565, 8.905, 9.195, 16.2, null, null, 12.3, 6.135, 17.25, 11.3, null, 17.85, 14.85, 16.5, 17.25, 10.695, null, 12.3, 6.235, 12.15, 7.47, 8.155, 8.895, 7.97, 16.2, 14.5, null, 15.7, 13.3, 6.865, 8.21, 20.7, 11.6, null, 12.65, null, 12.6, 13.35, 4.61, 13.8, null, 14.0, 9.17, 16.5, 16.7, null, 6.98, 12.15, 19.25, null, 9.3, 11.0, 6.67, 6.675, 6.48, 14.1, 15.35, 7.05, 11.1, 6.445, 7.5, 17.25, 20.35, null, 4.59, 12.6, 5.98, 7.47, 20.7, 6.17, 11.35, 19.5, 15.75, 15.6, 8.395, 8.395, 19.2, 8.06, 16.75, 13.0, 11.3, null, 21.2, 20.2, 8.02, null, 18.25, 7.05, 5.51, 15.7, 9.6, 5.175, 15.6, 7.81, null, 19.7, 15.85, null, 7.3, 6.15, 6.44, null, 15.5, 15.2, 14.8, 18.35, 9.0, 17.85, 17.75, 6.615, 20.1, 9.195, 20.2, null, 8.26, null, 7.52, 17.0, 19.6, 5.095, 17.0, 15.35, 8.42, 6.985, 6.3, 14.85, 12.35, 12.3, 10.5, 15.35, 18.5, 11.6, 14.3, 8.52, 18.2, 18.25, 12.1, 13.35, 19.5, null, 14.35, null, 11.1, 8.42, null, 15.5, 11.65, null, 12.3, 13.65, 13.3, null, 9.5, 8.8, 20.7, 11.5, 16.7, 6.885, 6.715, 5.19, 9.395, 9.695, 6.695, 20.35, 6.615, 7.36, 9.13, 13.35, 8.355, 19.85, 18.25, 15.75, 18.0, 7.63, 10.195, 11.8, 10.395, 7.235, 14.85, null, 15.85, 20.7, 9.395, 13.5, null, 14.1, null, 14.15, 9.695, 4.88, 10.195, null, null, null, 15.35, 6.695, 10.0, 8.63, 15.0, 20.0, null, 9.1, 16.0, 15.85, null, 19.1, 7.27, 6.59, 13.1, 14.3, 15.1, 5.825, 10.195, 20.2, 12.3, 16.75, 11.1, 9.195, null, 12.8, 6.325, null, 6.17, 6.98, null, 12.15, 9.3, 18.0, 12.15, 13.5, 19.35, 8.485, 6.3, 20.85, 15.5, 17.0, null, 10.5, 9.3, null, 5.615, 18.0, 13.35, null, 7.02, 20.1, 14.65, 7.825, 17.35, 16.35, 15.2, 18.7, 15.2, 17.85, 14.8, 15.85, null, 18.85, 16.7, 20.35, 9.195, 15.3, 16.5, 20.85, null, 10.6, 5.15, 12.85, 20.25, 17.6, 16.7, 15.0, 6.63, null, 15.5, null, 9.895, 16.25, 13.5, 17.7, null, 13.85, 6.92, 11.65, 11.0, 17.75, 5.695, 17.25, 10.5, 16.2, 17.6, 7.31, 14.15, null, 7.97, 9.895, 10.695, 13.15, 18.35, 15.7, 5.785, 19.1, null, 12.6, 14.7, 20.2, 14.15, null, null, 18.2, null, 12.6, 16.2, 13.15, 7.51, 13.85, 9.1, 19.85, 11.6, 15.7, null, 20.35, 10.5, 7.435, 5.655, 11.1, 15.0, 14.15, null, 12.5, 20.35, 8.85, 7.55, 18.7, null, 12.6, 9.395, 7.21, 18.35, 11.3, 17.25, null, 11.85, 9.6, 12.15, 17.75, 20.35, 8.785, null, 6.11, null, 15.15, 10.5, null, 16.7, 9.035, 11.0, 11.8, 10.695, null, 9.105, 16.2, null, 18.75, 13.3, 6.425, 16.35, 19.6, 18.2, 19.0, 11.395, 6.635, 17.85, 14.15, 5.5, 8.895, 17.7, null, 10.0, 7.09, 12.15, 7.75, null, 5.03, 9.8, null, 15.85, 17.7, 12.65, 19.6, 6.85, null, 7.09, 6.55, null, 19.25, 5.635, 7.035, 7.72, 13.0, 8.51, null, 9.8, 19.85, 12.1, 15.5, 9.5, null, 8.155, 8.18, null, 19.6, 20.6, 9.695, 8.85, 8.93, 17.5, 16.1, 13.65, 5.425, 13.15, 6.26, 19.7, null, 11.8, 13.85, 14.35, null, 20.7, 7.64, 19.6, 18.5, 12.3, 12.1, 7.21, 17.6, 6.135, 19.6, 12.1, 14.5, 8.96, 20.7, 7.145, 9.6, 14.5, null, 18.85, 13.8, 20.35, 20.75, 8.185, 9.395, 7.39, 16.75, 9.8, 15.0, 6.215, 11.65, 5.51, 7.72, 16.35, null, 13.8, 4.905, 16.35, 21.25, 15.85, 8.6, 9.13, null, null, null, 10.895, 9.3, 17.7, 9.3, 4.555, 19.2, null, 17.35, 12.65, 8.0, 17.7, 14.85, 12.15, 15.1, 12.6, 16.75, 10.8, 20.2, null, 15.2, 7.315, 16.1, null, 17.75, 17.2, 6.635, null, 7.52, 12.15, 9.195, null, null, 12.85, null, 7.31, 18.25, 9.6, 10.3, 16.7, 11.15, 11.85, 12.6, 7.855, 18.35, null, 12.5, 17.25, 12.1, 16.0, 5.94, 13.65, 8.88, 11.5, 7.855, 8.85, null, 13.6, 8.27, null, 9.895, null, 18.5, 21.1, 6.65, 18.5, null, 13.0, null, 15.0, 13.1, 11.1, 16.75, 7.655, 10.5, 8.1, 15.7, 14.5, 17.7, 7.36, 18.75, 18.2, 5.46, 15.5, 12.85, 15.25, 8.6, 7.39, 9.035, 11.65, 15.7, 18.0, null, 17.75, 17.1, 18.2, 20.35, 15.6, 13.3, 6.71, 15.0, null, 9.105, 11.8, 12.0, 20.7, 10.3, 19.6, 6.89, 16.7, 13.0, 10.1, 15.6, 7.97, null, 5.945, 20.35, 13.5, 6.71, 12.15, 17.7, 20.5, 19.1, 12.3, 8.905, 14.5, 8.365, 8.51, 6.38, null, 16.7, 10.0, 14.5, 14.65, null, 11.85, 19.0, 6.36, 18.85, 9.6, 5.94, 13.5, 10.85, 15.15, 15.6, 5.15, 20.35, 8.895, 21.25, 4.905, 10.895, null, 17.75, 6.8, 10.395, 14.8, 13.5, 16.0, 17.85, 18.7, 18.0, null, 5.26, 6.175, 5.86, null, 10.5, 9.5, null, 11.8, 12.5, 19.35, 20.2, 20.2, null, 6.8, null, null, 8.43, 9.3, 11.35, 20.1, 11.35, null, 9.8, 20.35, 18.2, 18.35, 12.1, 10.695, null, 11.8, 13.8, 15.0, 5.63, 7.55, 18.85, 7.22, 17.85, 8.895, 19.25, 11.3, 10.85, 5.0, 20.0, null, 10.0, null, 8.63, 9.1, 6.92, 6.86, 20.0, 14.1, 17.6, 17.75, 8.6, 7.27, 6.8, null, 6.935, 6.69, null, 12.35, 15.6, null, 13.1, 9.195, 11.15, 16.1, 6.465, 20.75, 7.655, 20.25, 18.75, 11.5, null, null, 7.5, 17.0, null, 6.03, null, 15.0, 18.75, 17.85, 18.35, 18.35, 19.6, null, 14.65, 21.0, 9.6, 17.6, 14.0, 6.59, 17.6, 11.5, 20.35, 18.7, 5.46, 9.31, 12.3, 18.2, 18.25, 18.25, null, 10.195, 5.34, null, 11.15, 9.8, 12.1, null, null, 15.5, 15.5, 5.15, 17.25, 18.35, 6.32, 5.51, 13.35, null, null, null, null, 14.0, 18.85, null, 18.35, 10.5, 9.6, null, 6.035, 6.65, null, 7.285, 11.1, 11.35, 12.3, 11.6, 12.3, 18.85, 9.8, 7.445, 11.1, 21.0, 20.2, 18.2, 11.8, 20.6, 9.8, 18.6, 13.0, 20.7, 9.8, 9.5, 21.1, null, 8.975, 4.92, 17.5, null, 9.695, null, 7.725, null, 9.6, 9.1, 17.0, 14.0, 12.1, 19.85, 17.2, 8.71, 6.89, 18.75, null, 14.5, null, null, 20.75, 17.6, 16.85, 20.6, 5.175, 17.85, 8.93, null, 7.655, 18.35, null, 14.0, 11.6, 15.85, 10.5, 16.7, 17.6, 18.25, 21.1, 9.1, 15.25, 14.35, null, 5.885, 16.1, null, 19.7, 11.5, 16.5, 15.15, 12.15, 15.7, 11.6, 12.85, 15.0, 11.0, 5.88, 7.825, null, 10.695, null, 13.6, 8.06, null, 7.105, 18.6, 9.5, 16.85, 17.85, 13.1, 11.3, 13.3, 15.2, 20.7, 7.405, 6.15, 11.35, 19.85, null, 8.18, 12.15, 6.03, 15.85, 18.6, 12.0, 17.1, 10.5, 17.5, 16.1, 20.1, null, 7.55, 19.25, 19.6, 14.85, 14.65, 9.3, null, 14.5, 8.365, 12.85, 13.5, 7.365, 21.1, null, 9.5, 12.85, 14.0, 18.35, null, 7.155, 5.82, 17.75, 18.0, 7.06, 15.6, null, 12.3, 15.0, 18.2, 20.5, 8.27, null, 8.93, 6.215, 20.25, 7.895, 19.35, 9.695, null, 8.21, 7.3, 20.0, 7.865, null, 20.35, 16.0, 18.0, 18.7, null, 10.6, 5.655, null, 10.195, 8.06, 16.35, 6.46, 13.5, 16.2, 19.1, null, 5.48, 6.055, 9.6, 6.135, 8.43, 8.27, 10.195, 14.0, 8.01, 16.25, 13.35, null, 17.75, 13.5, 11.8, 5.78, 9.0, 17.75, 8.395, null, 12.85, 8.5, 14.0, 9.3, 15.85, 10.8, 7.26, 18.7, 16.0, 8.895, 11.1, 18.85, 7.905, 14.7, 12.6, 16.0, null, null, 13.35, 20.1, 8.185, 9.195, 19.1, 12.85, 11.15, 9.8, 10.195, null, 12.0, null, 16.7, 17.1, null, 16.7, 19.35, 19.2, null, 18.25, 16.75, 17.1, 13.0, 7.17, 19.85, null, 4.615, 7.63, 8.39, 5.175, 16.0, null, null, null, 9.5, 10.895, null, 17.2, 19.85, 6.385, 11.65, 12.85, 17.7, 9.1, 15.5, 16.35, 10.695, 16.6, null, 13.15, 11.5, null, null, 5.63, 19.2, null, 6.695, 15.75, 12.5, 21.25, null, 18.85, 20.1, 11.395, 9.3, null, 12.8, 6.8, null, 15.0, 19.85, 7.85, 20.2, 11.85, 6.135, 9.0, 17.5, 12.15, 11.0, 17.5, null, null, 17.5, null, 10.6, 7.145, null, 20.7, null, 17.5, 17.7, 8.6, 9.5, 17.7, 12.3, 6.26, 17.7, 18.25, 5.8, 14.5, 18.25, 12.85, 17.1, 7.575, 9.21, 11.3, null, 13.6, 20.85, 9.195, null, 15.75, 16.5, null, 20.5, 17.6, 8.775, 10.1, 18.2, 8.975, null, 9.6, 8.185, 14.75, 20.5, 14.65, 19.2, 5.945, 17.5, 10.895, 20.5, null, 13.65, 15.7, 18.7, 19.35, 16.0, 6.965, 11.395, 7.5, 6.115, null, 14.8, 8.71, 15.5, 19.35, null, 19.2, 16.25, 19.85, 13.65, 7.535, null, null, 5.59, 11.0, 19.85, 17.6, 6.215, 15.1, 13.35, 9.5, 11.8, 17.6, 19.85, 13.35, 18.85, 17.5, 20.2, 5.88, null, 15.85, 5.985, 18.85, 18.85, 7.51, 16.2, 17.6, 8.97, 7.22, null, 8.71, 17.7, 15.85, 6.055, null, 19.25, 16.5, 13.5, null, 7.865, 10.6, null, 16.2, 14.5, 7.235, 16.75, null, null, 14.0, 19.85, 10.895, 5.635, 10.65, 15.1, 16.5, 13.35, 12.15, 13.65, 20.75, 19.1, 17.25, null, null, 10.195, 16.6, 17.6, 8.185, 13.65, 10.6, 10.8, 15.2, 8.895, 11.8, 7.63, 6.55, 16.85, null, 7.235, 19.25, 13.85, 18.1, 18.6, 6.615, 15.6, 18.85, 7.235, 7.825, null, 19.7, 12.6, 10.65, 16.75, 13.8, 9.6, 13.1, 14.6, 6.67, 15.7, 17.75, 20.2, 10.85, 20.25, null, 5.86, 6.115, 19.7, 9.8, 12.5, 19.35, 16.75, 19.1, 21.35, 19.5, 6.575, 6.67, 12.3, 16.1, null, 17.35, 15.35, 8.975, 13.15, 19.5, 15.1, 5.465, 17.75, null, 6.96, 17.85, 5.095, 5.73, 7.5, 7.855, 5.655, 12.15, 9.6, 18.85, 20.2, 12.15, 19.6, 16.0, null, 6.425, 6.825, null, 7.97, 17.25, 9.1, 19.2, null, null, 14.5, null, 17.75, 7.145, 8.985, 16.35, 5.655, 9.5, 5.78, 8.05, 6.75, 16.6, 6.095, 15.1, 19.35, 11.3, 10.8, 19.7, null, 10.5, 7.655, 8.235, 20.6, 19.35, 9.5, 5.305, 9.8, 9.6, 13.0, 17.6, 14.3, 10.3, 15.1, 6.03, 7.68, 20.0, 15.85, 15.2, 12.15, 19.35, null, null, 8.85, 19.85, 19.1, 17.0, 11.15, 12.35, 20.85, null, 7.035, 4.785, null, 17.25, 9.3, 17.25, 17.85, null, 9.8, 18.85, 9.695, 10.0, 16.6, 18.25, 5.82, 9.31, 18.25, 19.7, 6.865, 11.35, 17.7, null, 20.85, 17.25, 15.35, 13.65, 15.2, 6.38, null, 6.905, null, null, 15.7, 15.2, null, null, null, 8.355, 12.15, 13.35, 17.0, 17.35, null, 9.1, 6.13, null, 19.2, 8.895, 19.75, 10.895, null, 10.3, 19.1, 4.555, null, 16.2, 8.975, 21.1, 17.75, 12.8, 6.905, 10.195, 5.785, null, 7.96, 8.3, 5.46, 13.35, 5.46, null, 20.75, 6.59, 7.55, 20.85, 18.85, 15.2, 10.1, 10.0, 8.985, 11.5, null, 19.85, 21.1, 4.555, 20.85, 7.905, 6.78, null, 15.0, 17.6, 13.8, 5.11, 8.71, 7.235, 12.3, 6.96, 18.0, 6.28, 10.5, 14.15, 9.8, 15.85, 10.3, 17.6, null, 10.3, 9.195, 12.8, 10.0, 17.25, null, 20.2, 7.5, 7.895, 15.75, null, 13.65, 20.1, 13.65, 12.3, null, 21.35, 7.72, 12.1, 14.85, null, 16.0, 8.395, 7.365, 20.5, 18.25, null, 7.475, 12.15, 7.97, 15.25, 16.35, 11.1, 11.8, 14.3, 13.65, 16.75, 16.25, 18.0, 20.2, 15.0, null, null, null, 13.0, 14.65, null, 5.88, 12.35, 9.0, 10.395, 10.195, null, 9.695, 19.35, 16.7, 5.985, 8.85, 15.7, 12.5, 19.35, 7.72, 17.2, null, null, null, 8.895, 20.2, 20.5, 17.6, 11.15, null, 19.6, 10.895, 13.85, 15.1, 15.0, 12.85, 16.85, 15.5, 15.85, 21.2, 13.35, 6.11, 13.0, null, null, 6.425, null, 12.0, 7.535, 7.68, 14.7, 10.3, 13.8, 10.1, 7.785, 13.8, 11.8, 10.5, null, 19.7, null, null, 15.1, 16.2, 11.3, null, null, 19.7, 20.6, 9.5, 13.5, 13.65, 7.27, null, 6.86, 14.7, null, 9.195, 14.15, 12.3, 11.8, 13.6, 11.6, 15.0, 7.0, 13.1, 11.3, 12.3, 10.0, null, 6.98, 19.0, 17.0, 15.15, null, null, 8.355, 12.15, 17.25, 6.46, null, 5.78, 18.7, 19.2, null, null, null, null, 7.35, 20.35, null, 17.85, 4.615, 15.0, null, 12.1, 11.65, null, 15.5, 9.195, 15.1, 5.095, 15.1, 12.1, 6.235, 15.0, null, 10.65, 9.8, 18.25, null, 19.6, 17.0, 9.6, 8.51, 5.88, 8.905, null, 8.85, 20.7, null, 6.3, 17.5, null, 5.765, 17.75, 5.035, 8.355, 6.13, 10.5, 12.5, null, 20.75, null, 13.35, 7.96, 8.92, 6.635, 15.5, 6.13, 7.315, 16.0, 16.85, 15.85, 15.0, 19.1, 19.0, 13.5, 16.75, null, 9.195, 19.35, 11.8, 10.6, 13.65, 14.85, null, 13.5, 5.635, 7.405, null, 11.35, null, 16.1, 17.7, 13.1, 14.3, null, 8.6, 5.78, 8.195, 13.65, 17.35, 20.25, null, 16.1, null, 17.6, 18.0, 12.5, 9.065, 16.85, 16.0, 9.3, 6.215, 20.1, 8.77, 16.25, 15.15, 13.15, 12.15, null, 20.85, 18.2, 8.3, 6.195, 15.1, 11.5, 19.0, 10.5, 8.8, null, 17.75, null, 17.75, 20.75, 16.7, null, 13.85, 15.35, 12.1, 12.15, null, 16.35, null, 7.27, 13.8, 20.25, 9.3, 14.15, null, 8.115, null, 11.1, 12.5, 9.8, 19.7, 14.3, 19.75, 18.5, null, 12.35, null, 5.365, null, 20.5, 8.71, null, 16.0, 17.6, 20.7, 13.0, 20.2, 20.35, 18.6, null, 13.35, 17.85, 16.35, 14.85, 21.25, 14.15, 17.2, null, 10.85, 20.35, 16.35, 9.3, null, 15.75, 14.85, 18.6, 16.35, 9.695, 15.15, 14.3, 10.895, 8.39, 18.35, 15.2, 20.2, null, 8.71, 12.15, 8.06, 11.5, 14.85, 11.8, 14.7, null, 18.75, 7.235, null, 19.6, 7.27, 15.1, 7.81, 7.81, 6.465, null, 10.8, 9.5, 20.7, 8.895, 15.6, 9.0, 19.35, 19.7, null, 5.825, null, 12.85, 12.85, 17.5, 17.0, 7.05, 5.78, 15.2, null, 11.35, 17.5, 16.25, 12.85, null, 8.84, null, 17.75, 6.38, null, 10.65, 13.1, null, 10.195, 6.67, 5.32, null, 12.1, 13.85, 16.35, 18.35, 15.5, 12.1, 12.1, 19.25, 8.71, 10.5, 11.6, 16.0, 6.865, 10.395, 8.05, 5.785, 10.3, 12.5, 7.63, 13.5, 17.5, null, 8.21, 11.65, 18.5, 7.72, 5.88, 6.85, null, 7.52, 13.65, null, 6.985, null, 9.3, 12.1, 5.98, 9.0, 7.145, 19.0, 7.855, 19.5, 8.71, 11.5, 18.85, 13.65, 6.135, 5.655, 14.85, 20.75, 10.0, 10.3, 5.675, 5.51, 17.75, 17.75, 8.365, null, 10.0, 18.2, 19.35, null, 7.39, 7.945, 16.0, 20.1, 20.6, 8.575, 17.7, 20.0, 5.695, 5.11, 15.25, null, 18.25, 15.6, 13.0, 7.02, 19.7, 9.1, 8.0, 17.75, 19.5, 7.685, 9.6, 19.6, 17.6, 15.6, 12.65, null, null, 14.5, 6.425, 9.695, 19.6, 20.7, 12.6, 8.275, null, 19.85, 7.36, 20.35, 17.7, null, 8.39, 9.195, 8.93, 15.7, 16.7, null, 20.5, null, 11.65, 20.75, null, 16.2, 10.195, null, 13.3, 6.215, 6.67, 12.6, 12.15, 16.6, null, 20.85, 11.0, 15.6, null, 10.195, 12.6, 20.2, 18.0, 6.75, 12.35, 7.59, 14.8, 5.11, 6.38, 8.3, 16.7, null, 9.695, 8.235, 10.195, 10.695, 8.38, 11.65, 9.195, 8.1, 18.6, 17.6, 20.25, 5.98, 18.75, 5.82, 8.52, 15.5, 16.7, 9.6, 9.13, 10.5, 17.0, null, 9.195, 10.1, 8.18, 8.655, 17.85, 10.65, 13.65, 17.25, 9.5, 16.7, 8.6, 19.25, 11.0, 9.895, 14.0, 7.365, 20.85, 7.64, null, 17.7, 7.97, 12.35, 8.42, null, 6.305, 5.92, 15.1, 17.35, 7.405, 6.405, 19.7, 17.7, 17.6, 15.85, 17.5, null, 9.6, 11.0, 20.75, null, 16.6, 12.5, 7.02, 19.1, 5.785, 11.65, 19.0, 5.19, 14.15, 16.2, 7.72, 18.6, 8.35, 18.6, null, 19.0, 8.895, 18.0, 15.1, null, 20.5, null, 20.6, 15.85, 20.6, 10.3, null, 17.6, 11.35, 10.195, 17.5, null, 11.0, 5.92, 13.3, 18.2, 9.395, 6.75, 15.7, 8.39, null, 9.6, 11.1, 12.8, 12.85, 13.65, null, 7.935, null, 16.1, 7.645, 8.775, 10.65, 7.64, 7.325, 8.645, 8.97, null, 5.405, null, 10.195, 6.935, null, 8.88, null, 9.3, 9.0, 21.25, 12.35, null, 16.85, 14.7, 8.63, 7.935, null, 19.85, 5.765, 17.75, null, 8.235, null, 6.13, 9.1, 18.7, 15.5, 10.695, 6.695, 16.0, 5.59, 11.35, 12.3, null, 17.75, 17.75, null, null, 12.35, 16.7, 19.35, 15.7, null, 18.7, 7.06, 11.35, null, 6.96, null, null, 13.15, null, 14.5, 7.5, 15.2, 11.6, 9.0, 19.35, 15.2, 20.2, null, null, 5.365, 21.2, 11.15, 19.35, 13.5, 9.6, 12.5, 15.85, 10.195, 20.2, 7.96, 20.0, 6.425, null, 12.1, 11.6, null, 9.395, 17.2, 7.42, 18.25, null, 17.6, null, 6.825, 7.405, 15.7, 15.6, 9.6, null, null, null, 10.195, 19.1, 8.895, 8.945, 10.3, 16.0, 6.385, 13.0, 20.1, 11.1, 5.175, 11.5, 16.75, null, 17.25, 5.88, null, 7.3, 7.075, 6.365, null, 9.3, 5.92, 9.6, 14.15, 11.8, 6.765, null, 13.15, null, 18.7, 13.3, 9.42, 17.6, 8.235, null, 13.15, 12.65, 20.7, 13.0, 16.1, 16.0, 12.35, 14.0, 20.5, 8.3, 19.2, 9.1, 14.15, 7.93, 17.1, 16.2, 6.465, 7.155, 20.6, 20.25, null, 15.85, 9.0, null, null, 18.7, 20.85, 18.35, 18.6, 9.8, 15.1, null, 7.09, null, null, null, 9.5, 19.0, 20.5, 19.85, 21.1, null, 15.1, 19.7, 16.2, 18.1, 10.195, 6.55, 15.85, null, 12.1, 16.5, null, 16.7, null, 11.1, 11.35, 9.195, null, 18.85, 8.0, 19.1, null, null, null, 6.36, 19.6, null, 17.1, null, null, 8.76, 6.775, 16.25, 19.85, 19.75, 6.96, 8.935, 8.26, 6.71, 8.945, 12.65, 15.0, 15.35, 14.35, null, 5.765, 8.315, 6.13, 14.5, 15.1, 17.25, 13.0, null, 12.85, 7.975, 10.895, 9.17, 16.2, 14.65, null, 6.985, 17.7, 16.1, 14.75, 12.15, null, 18.5, 12.15, 16.1, 20.6, 17.6, null, 5.98, 13.5, 12.85, 13.6, 9.8, 15.0, null, null, 16.35, null, 7.05, 20.1, 19.6, 16.35, 13.15, 12.65, 14.5, 17.75, 14.0, null, 9.895, 10.195, 18.25, 6.4, 5.88, 6.895, 20.5, 14.8, 17.75, 18.6, 12.5, 19.0, 8.26, 9.06, 9.195, null, 5.945, null, 13.35, 12.65, 12.15, null, 20.85, 18.25, 11.3, 17.6, 5.88, null, 21.25, 20.2, 9.8, 16.6, null, 7.035, 7.93, 15.5, null, 12.35, null, null, 8.235, 6.675, 6.55, 13.5, 6.86, 9.8, 14.3, 19.35, 9.3, null, 4.805, null, 14.5, 15.35, 21.1, null, 19.5, 6.03, 20.7, 16.5, null, 17.1, null, 5.26, 14.0, 7.575, null, 16.75, 9.3, 15.2, 8.6, 18.6, null, 9.5, 15.0, 6.465, 18.5, 6.715, 14.15, null, 13.5, 17.6, 19.85, null, 7.855, null, 8.615, 7.405, null, 18.2, 9.3, null, 21.25, 8.655, 11.8, null, null, 16.5, 12.6, null, null, null, 15.5, 17.25, 17.5, 16.0, 19.5, 9.27, 18.25, 8.395, 9.8, null, 7.27, 17.6, 13.0, 8.75, 12.15, 10.3, 6.425, 16.6, null, 10.65, 19.6, 16.0, 8.89, 20.25, null, 5.175, 4.61, null, 11.395, 17.7, 18.0, 19.7, 5.925, null, 10.65, 14.8, 15.1, 13.5, 16.7, 13.35, 10.195, 15.7, 13.15, 13.15, 12.1, 12.8, null, 4.805, 18.75, 7.6, 9.5, 16.7, 5.26, 15.6, 13.65, 12.85, 12.6, null, 17.75, 14.8, 18.25, 14.65, 16.5, 18.75, 10.5, 15.35, 14.1, 8.27, 12.15, null, 8.895, 14.0, 18.2, 17.85, 17.1, 9.8, 9.6, 13.5, 17.5, null, 7.945, null, 5.765, 14.1, 20.7, 10.6, 9.3, 12.6, 8.6, 19.85, 10.65, 9.0, 10.0, 20.25, 15.6, 12.5, 4.785, 6.92, 15.0, 8.365, 7.785, 10.8, 6.57, 8.38, 11.6, 11.3, 7.67, 8.96, 6.67, 18.7, 17.85, null, 7.725, 19.6, 18.7, null, 13.35, 5.26, 8.945, 20.6, 14.6, 5.94, 6.75, 16.7, 13.5, 8.42, 7.68, 17.75, 4.92, 8.27, 20.7, 11.6, null, 19.35, 20.25, 11.3, 11.15, null, 18.7, null, 5.88, 20.85, 8.27, 17.6, 18.2, null, 20.6, 15.5, 15.35, 9.8, 11.65, 16.35, null, 18.7, 16.5, 5.48, 9.6, null, 9.06, 15.6, 16.75, 11.8, 9.5, 9.0, 10.195, 15.1, 13.0, null, null, 10.3, 6.96, 16.75, null, null, 5.88, null, 18.85, 16.0, 11.5, 7.31, 16.7, 9.895, null, 8.895, 7.93, 7.645, 14.6, null, 8.02, 5.945, 6.98, 10.1, 19.1, 14.35, 11.6, 15.7, 11.85, 17.5, null, 8.38, 12.5, 12.85, 15.5, null, null, 11.1, 14.35, 17.35, null, 15.1, 12.15, 10.695, null, 7.825, 18.35, null, 17.85, 16.75, 10.395, 9.065, 7.945, 7.325, 13.15, 10.5, 6.615, 15.0, null, 6.11, 14.65, 10.1, null, 18.7, 6.035, 8.35, 15.5, 17.75, null, 18.25, null, 6.4, 8.71, null, null, 17.7, 15.6, 6.57, null, 11.8, 6.89, 8.51, 21.25, 7.235, null, 17.0, 19.5, null, 8.18, 10.8, 19.35, 21.1, 16.1, null, null, 17.6, 9.0, null, 12.15, 9.395, null, 14.3, 6.3, null, 8.155, 7.575, 11.8, 18.75, 12.15, 9.285, null, null, 5.405, 18.2, 19.6, 20.25, 6.11, 13.8, 11.8, 13.5, 8.695, 7.85, 10.1, 5.75, 20.35, 14.5, null, 6.135, null, 13.0, 16.0, null, 12.35, 11.395, 7.435, 12.8, 9.695, 18.5, 20.6, 11.6, 15.7, 10.695, 19.6, 9.195, 7.72, 8.77, 13.6, 21.25, 9.035, 16.7, 11.65, 9.6, 10.85, 7.52, 12.5, 11.3, 20.75, 15.35, 10.5, 20.75, null, 12.5, 20.5, 13.6, null, null, 13.8, 8.195, 6.195, null, 14.0, null, 11.5, 13.35, 7.21, 19.0, 13.6, null, 18.35, 6.305, 15.2, null, 15.2, 15.35, 7.405, 18.7, null, 13.15, 20.6, 16.5, null, null, 11.6, 12.35, 6.865, 10.8, 7.71, 12.3, 11.5, 13.85, 9.0, 18.85, 7.825, 16.0, 13.15, 6.635, 7.5, 17.1, null, 7.93, 12.6, 15.6, null, 14.85, 7.315, 12.0, 16.35, 17.75, null, null, 18.6, 12.65, null, 16.25, null, null, 20.2, null, 15.35, 7.785, 17.6, 15.1, 9.395, 9.27, null, 18.85, null, 11.0, 13.15, 5.46, null, 12.35, 6.865, 17.75, null, null, 19.35, 13.8, 9.3, 17.0, 20.2, 14.0, 9.195, 8.39, 5.735, 8.155, 17.7, 16.7, 17.25, null, 13.5, 18.0, 20.75, 17.6, 13.0, 6.055, 12.85, 10.6, 18.7, 6.235, 15.25, 19.2, 11.65, 18.7, 8.275, 8.895, 20.35, 15.85, 19.0, 10.85, 5.095, 10.0, 5.34, 17.2, null, null, 10.5, 10.5, 16.7, 8.43, 7.785, 11.35, 11.6, 6.365, 5.11, 10.1, 12.85, 7.725, null, null, null, 17.1, null, 20.1, 16.75, null, 8.905, 6.78, 16.85, 14.65, 20.7, null, 12.1, 9.1, 15.2, 15.15, null, 20.6, 15.3, null, 19.25, 9.3, null, 17.25, 21.25, 20.1, 18.75, 17.6, 17.75, 19.25, 18.85, 17.7, null, 17.5, 10.5, 16.75, 8.935, null, 15.35, null, 15.85, 6.215, null, 9.5, 17.7, 19.2, 8.05, 14.7, 11.5, 19.85, 20.0, 8.96, 5.615, 17.0, 5.82, null, 19.1, null, null, 9.695, 20.6, 9.195, 10.695, 15.75, 19.6, null, 17.35, 9.3, 6.71, 17.1, 5.175, 12.65, 16.5, null, 7.725, 7.0, 12.1, 7.6, 12.85, 17.75, null, 20.25, null, 6.76, null, 14.15, 20.75, 7.84, 19.6, 10.5, 5.655, 12.5, 10.195, null, 6.135, 9.1, 14.6, 20.7, 19.0, 9.195, null, 6.425, 12.15, 17.0, null, null, null, 9.0, 6.215, 7.475, 11.0, 19.7, 18.75, 11.6, 13.0, 7.285, null, 18.6, 6.615, 10.1, 17.7, 10.5, null, 12.3, null, 18.85, 7.485, 14.3, 10.6, null, 13.65, null, 13.65, 6.445, 8.895, 16.7, 6.115, 11.3, 9.3, 7.725, 18.0, 17.0, null, 12.8, 15.85, 6.59, 6.11, null, 9.5, 17.6, 20.0, 13.15, 19.0, 8.1, 9.3, null, 13.5, 7.725, null, 5.485, 13.15, 7.26, 10.5, 19.5, null, null, 21.25, null, 14.15, 19.7, null, 13.8, 18.35, 11.3, 8.35, 12.65, 16.7, 5.365, 6.52, 14.0, 6.575, 15.35, 6.985, 10.8, 14.85, null, 14.85, 9.395, 13.5, 18.0, null, 20.0, 20.35, 8.785, null, 7.1, 14.85, 11.3, 20.25, null, null, 5.48, 11.0, 14.1, null, 6.61, 5.94, 7.975, 12.65, 11.15, 6.825, 8.18, 17.6, 15.75, 12.15, 9.3, 13.5, 9.695, null, 20.5, 14.85, 13.0, 7.075, 17.85, 10.6, 9.695, 12.65, 5.945, 17.5, 7.39, 9.8, 11.8, 8.895, 11.8, null, 17.25, 11.35, 19.25, 19.7, 14.0, 8.355, 15.1, 12.1, 8.185, null, 15.5, 14.0, 18.0, 9.6, null, 9.6, null, 16.7, 9.3, 8.1, 19.1, 8.88, 6.825, 11.5, 7.075, 20.7, 7.895, 6.86, 9.6, 12.1, 11.1, 9.5, 21.0, 5.46, null, 17.6, 20.35, 7.39, null, 9.195, 17.1, 13.0, 15.5, 8.695, null, 7.5, 7.485, 9.8, 11.395, 20.7, 16.2, null, 13.15, 21.25, 13.15, 19.6, 12.6, 12.8, 7.285, 13.1, 8.63, 10.195, 16.85, 9.3, 15.85, 5.485, 18.25, 12.6, null, 12.85, 6.13, null, 5.655, 11.1, 11.6, 16.0, 12.15, 6.55, 9.6, 19.1, 14.0, 14.85, 4.92, 13.5, 15.7, 8.97, 15.35, null, null, 17.7, 6.36, null, null, 8.235, 12.35, 18.0, 20.0, 6.055, 6.63, null, 8.3, 20.25, 8.6, 19.5, 5.095, 11.0, 18.25, 20.0, null, null, 7.5, 7.22, 12.0, 12.15, 11.6, 8.315, 12.15, 5.905, 8.575, 17.35, 18.6, null, 15.1, null, 7.825, 9.17, 20.7, 12.1, 13.65, 8.38, 19.75, 8.67, 15.6, 12.35, 17.7, 12.5, 20.2, 13.15, null, null, 10.85, null, 17.7, 14.35, 20.0, 12.3, 10.3, 15.6, 9.8, 11.1, null, 11.8, 7.72, null, 19.6, 6.425, 20.85, 18.0, 7.05, 16.25, 20.7, 5.44, 20.5, 12.35, null, 4.61, 8.275, null, 8.27, 7.905, 16.2, null, 13.6, 9.395, 7.35, 15.35, 14.5, 12.6, 10.8, 18.85, 12.15, 11.6, 15.3, 20.35, 14.5, 6.89, 14.6, 16.85, 8.93, 8.31, 19.0, null, null, 5.19, 17.0, 11.65, 20.25, 10.0, null, 11.1, 11.8, 9.695, 13.65, 17.75, 11.3, null, 19.35, 6.905, 13.5, 16.85, 20.6, 6.175, 18.5, 13.35, null, 8.115, 15.85, null, 16.35, 21.35, 12.15, 16.6, 11.6, 20.6, null, 20.1, 13.65, 13.3, null, null, 16.35, 5.32, 15.0, 8.27, null, 13.1, 12.5, 19.1, 11.3, 13.65, null, null, 18.85, 5.59, 18.6, 9.31, 6.17, 5.175, null, 19.2, 12.85, 16.25, 6.13, 12.3, null, 10.1, 11.15, 19.35, 17.25, 19.85, 9.5, 9.395, 4.59, 5.98, 6.46, 7.02, 8.52, 12.6, 5.94, 16.25, 10.695, 5.88, 9.3, 19.5, 5.82, 8.68, 15.7, null, 12.8, 15.1, 7.31, null, 12.35, 16.6, 14.35, 7.075, 18.25, 13.1, 7.68, 19.7, 8.52, 17.75, null, 5.785, 5.945, 18.25, 8.68, 11.65, 19.25, 16.2, 13.0, 17.75, 12.15, 6.32, 17.25, 7.72, 18.85, 19.7, 14.5, 17.7, 15.7, 9.695, 11.8, null, null, 15.2, 8.77, 19.7, 10.5, 15.1, 5.405, 20.35, null, 5.785, 11.8, null, 12.5, 6.11, 7.105, 8.5, 16.7, 17.1, 8.325, 15.85, null, null, 12.15, 15.85, 17.1, 15.5, 14.15, null, 6.865, 16.5, 14.5, 19.35, 8.51, 6.65, 7.39, 10.895, 8.63, 7.75, 12.15, 18.25, 19.85, 9.3, null, 5.98, null, 7.02, 7.72, 5.925, 9.695, 12.6, 15.6, 16.7, 18.0, null, 20.85, null, 18.7, null, 18.85, 11.65, 16.5, 15.6, 12.3, null, 10.65, 16.2, 10.5, null, 7.55, null, 13.35, 16.0, null, 16.85, 8.185, 19.7, 10.8, 12.6, 16.7, 13.1, 14.85, null, 13.0, 12.1, 11.3, 10.0, 20.6, 11.5, 11.8, 8.895, 9.3, null, 19.1, 17.85, 6.445, 12.65, 13.15, null, 15.0, 11.65, 20.1, 17.35, 18.1, 8.5, 14.1, 11.8, 6.035, null, 12.5, 20.85, 14.0, 17.25, 11.5, 6.675, 5.8, 8.895, 7.67, 10.895, 8.21, 8.575, 7.75, null, null, 12.35, 17.7, 8.52, 18.2, null, 16.0, 8.63, 10.8, 18.75, 5.78, 13.8, 17.75, 11.5, 11.8, 15.1, null, 8.85, 12.6, 13.8, 6.115, 17.25, null, 6.26, 13.5, 19.6, null, 11.5, 14.65, 8.89, 8.02, 18.7, 7.405, 5.98, null, null, 15.2, 12.1, null, 9.285, null, 8.155, 9.3, 13.85, 16.7, 11.15, 16.7, 17.0, 7.365, 16.5, 13.8, null, 18.7, 7.905, 13.65, 17.6, 15.5, 17.25, 6.89, 7.81, 20.2, null, 10.3, 4.635, 6.465, null, 6.61, null, 9.1, 5.15, null, 18.0, 10.1, null, null, 8.21, 7.81, 12.15, 19.35, 15.6, 7.365, 9.5, null, 5.73, 15.1, 6.765, 14.85, 6.11, 20.1, 5.73, null, 6.785, 8.645, null, 15.6, 7.76, 9.195, 9.8, 18.25, 21.25, 7.235, 20.25, null, null, 18.0, 7.02, 15.1, 8.68, 21.2, 16.6, 12.15, 16.25, 11.5, null, 13.15, 5.465, 14.15, 12.8, 8.655, null, 9.3, 20.6, null, 19.7, 14.5, 10.0, 7.945, 20.35, 15.85, 16.85, 11.5, 11.1, 6.635, 7.81, 9.395, 7.0, 6.71, 15.75, 19.85, 9.5, 15.6, null, 13.35, 11.1, 15.0, 14.8, 19.1, 6.825, null, 17.35, 9.8, 19.35, 18.6, 7.27, 12.6, null, 12.65, null, 17.5, 8.06, 12.1, null, 17.2, null, 5.94, 16.7, 7.39, 20.7, null, null, 18.2, 20.2, null, null, 17.75, 8.71, 18.85, 20.75, 12.5, 5.325, null, 16.75, 16.0, 13.35, 11.8, 10.65, 12.1, 9.395, 19.6, 14.1, null, 16.5, 14.3, 7.51, 17.25, 5.785, 13.65, 6.26, null, 19.7, 19.7, 13.65, 20.1, 12.6, 20.85, null, 15.6, 5.98, null, 16.35, 14.15, 12.1, 9.895, 8.51, 17.0, null, 9.0, 5.11, 19.5, 9.195, 16.7, 19.0, 12.3, null, 14.15, null, 10.395, 17.0, 15.85, 10.195, null, 6.57, 8.43, 7.39, 16.0, 13.1, null, 13.5, 20.6, 15.2, null, 5.88, 6.03, null, 18.85, 7.68, 15.35, 13.1, 10.1, null, 12.65, 14.6, 11.1, null, 8.63, 9.6, 19.6, 19.35, 14.0, 12.15, 8.195, 8.325, 7.475, null, 6.385, null, 18.5, 11.5, 7.93, null, 13.65, 12.35, 14.0, 9.6, 14.0, 8.89, 16.85, null, 7.05, 17.1, null, 19.7, 16.1, 11.3, 6.035, 17.6, 6.675, 15.5, 9.395, 16.1, 15.0, 9.6, 14.1, 11.5, 12.1, 7.42, 15.1, null, 9.285, 7.855, null, 12.85, 13.8, 15.0, 10.8, 14.3, 9.8, 11.5, 9.21, null, 10.0, 18.5, 20.6, 9.3, 11.395, 11.8, 8.01, 15.0, 13.35, null, null, 10.5, 21.25, 17.0, 9.3, 15.7, 15.75, null, 14.5, null, null, 7.1, 14.5, 17.35, 18.0, 6.615, null, 11.5, 19.1, null, 7.05, null, 16.35, 18.35, 9.105, 7.63, null, null, 7.55, null, 5.5, 7.59, 9.5, 6.11, 5.655, 7.285, 10.65, 17.7, 12.8, 19.85, 15.7, 15.6, 9.8, 19.5, 16.2, 17.6, 13.6, 18.85, 15.1, 17.35, null, 20.7, 13.5, null, null, 13.1, 12.15, null, null, null, null, 15.1, 16.7, 14.65, 13.3, 20.1, 14.3, 7.42, null, 9.5, 7.075, null, 7.96, 6.135, 14.6, 14.3, null, null, 8.315, 10.1, 9.895, 11.5, 18.25, 4.635, 18.5, 5.365, 6.095, null, 16.75, 21.25, null, 12.1, 15.1, 8.6, 17.6, 15.35, 8.26, 6.57, 11.6, 20.35, 12.15, 17.35, 7.0, 8.5, null, 14.5, 9.195, 17.75, 8.775, 16.7, 15.2, 20.5, null, 5.21, 10.3, 18.25, 21.25, 8.6, 10.3, 9.5, 9.3, 9.195, 7.68, null, 12.1, 11.6, 9.695, 12.0, 19.0, 6.38, 20.5, null, 5.695, 19.2, 20.35, 9.195, 17.85, null, 14.6, 10.195, 17.85, 7.5, 6.59, 10.895, null, 14.6, null, 9.6, null, 10.3, 17.0, 8.645, 16.0, 6.155, 13.85, null, 13.1, null, 11.8, 15.5, 14.15, null, null, 20.7, 15.2, 11.5, 21.25, 14.1, 9.395, null, 7.895, 14.0, 5.365, 16.35, 15.75, 7.5, 14.8, 7.07, 20.5, null, 18.0, 9.5, 15.0, 20.1, 11.0, 18.7, null, 15.15, 14.1, 8.42, null, null, 8.27, null, 8.615, null, 9.8, null, null, 13.65, 6.385, 20.5, 16.85, 7.785, null, null, 10.8, 15.0, 5.175, 11.6, 6.775, 9.31, 15.0, 13.3, 16.0, null, 6.48, null, null, 12.5, 8.39, 17.7, 12.5, null, 15.6, 10.65, 12.35, 6.035, 6.155, 16.75, 16.75, 15.1, 21.25, 9.395, 17.6, null, 13.15, 5.035, null, null, null, 5.48, 19.35, 9.195, 5.26, null, 6.235, 11.8, 20.7, 13.6, 5.82, 7.76, 18.35, 7.285, 15.1, 7.0, null, 18.35, 13.8, 18.35, null, 8.895, null, 15.5, 14.5, null, 8.26, 10.0, 9.0, 5.655, 18.6, 15.0, 20.5, 8.785, 8.77, 18.75, 19.85, 17.5, 14.6, 11.8, 11.65, 13.65, null, 16.6, 18.0, 7.17, 10.3, null, null, 11.5, 7.855, null, 17.35, 9.0, null, null, 10.195, 15.7, 15.7, 8.88, 15.2, 10.195, 6.67, null, null, 8.975, 13.8, 16.35, 6.11, 7.785, null, 18.85, null, 6.65, 7.5, 5.985, 6.78, 6.195, 18.6, 8.63, 11.8, 7.075, 8.395, 17.85, 12.35, 14.6, null, 11.65, 20.7, 8.77, 20.25, 13.65, 17.7, 8.315, null, 7.81, 11.1, 18.1, 8.88, 12.15, 9.5, 15.25, null, 12.15, 16.35, null, 12.85, 12.5, 7.905, 17.85, 7.21, 5.175, null, 16.2, 14.0, 8.42, 9.3, 9.395, 17.85, null, 6.13, null, 20.1, 16.5, 5.615, 7.52, null, 13.8, 17.6, 20.5, 11.8, null, 20.25, 15.85, 17.7, 6.035, null, 12.35, 14.65, 10.895, 15.75, 11.15, 8.985, 17.6, null, 13.15, 9.195, null, 19.6, null, 20.2, null, 7.75, 8.575, 20.2, 19.35, 7.365, 7.5, 8.3, 16.75, 10.695, 5.88, 12.6, 10.695, 17.85, 19.75, 7.97, null, 15.7, 15.1, 6.63, 8.6, null, 13.0, 5.98, 6.03, 13.8, null, null, 16.1, 20.1, 9.17, 10.895, 5.325, 12.85, null, 15.35, 16.7, 13.3, null, 6.67, 20.5, 15.1, 17.0, 8.42, 15.2, 17.0, 17.6, 18.0, 14.6, 5.8, 9.8, null, 14.3, 11.1, 17.0, 18.6, 8.895, null, 10.3, 19.25, 12.6, 15.3, null, null, null, 18.6, 14.5, 13.5, 10.3, null, null, 7.155, 16.5, 5.59, 15.15, 13.1, 8.06, 10.195, 10.1, 6.235, 12.5, 11.35, 9.065, 11.65, 18.2, 6.115, 6.92, 7.035, 18.2, 10.5, 17.6, null, 19.75, 16.5, 13.15, 7.89, 20.5, 16.25, 12.6, null, 8.775, 7.42, 8.67, 8.77, 19.35, 16.25, 11.5, 11.1, null, 5.59, null, 6.55, 6.85, 21.25, null, 12.8, 8.31, 12.1, null, 20.25, null, null, 16.75, 7.075, 11.1, 6.63, 8.935, 7.935, 7.485, 9.5, 18.35, 6.365, 11.1, 11.395, 9.895, 7.68, 13.65, 15.75, 10.195, 10.895, null, 17.7, 17.25, 18.6, 13.8, 11.1, 10.195, 5.88, 11.15, null, 11.6, null, 12.1, null, 4.635, 8.51, 9.6, 17.25, 15.0, 16.75, 8.365, null, 18.85, 6.615, 5.75, 10.0, 13.1, 10.1, null, 11.65, null, 9.3, 19.6, 11.35, 5.44, 14.65, 12.35, 12.85, 17.1, 11.6, 7.445, null, null, 6.135, 8.68, 18.5, 14.3, null, 15.35, 17.7, 15.2, 9.8, null, 15.25, 17.6, 7.55, null, 19.7, 13.0, null, 11.8, 20.35, 16.85, 7.63, 15.75, 18.2, 13.85, 10.895, 15.6, 11.3, 20.0, 19.35, 15.6, null, 10.195, null, 9.5, null, 10.65, null, 7.35, 15.7, null, 15.85, 13.8, 9.195, 9.3, 15.1, 19.1, 11.6, 7.27, 19.35, 9.695, 20.2, null, 10.5, 12.5, null, 17.75, 9.0, 17.85, null, 4.61, 8.75, 7.155, null, 12.3, 7.93, 8.01, 9.8, null, 5.0, 19.6, 16.5, 12.6, 14.1, 6.38, 20.25, null, 12.3, 15.6, 15.0, 11.6, null, null, 17.85, 14.8, 7.905, null, null, 11.8, 14.0, 14.85, 7.39, 15.0, null, 19.7, 10.8, null, null, null, null, 9.6, 10.695, 21.1, null, null, 6.135, 16.2, 15.7, 17.2, 12.15, null, 8.63, 15.0, null, null, 8.975, 12.15, 6.895, null, 8.325, 8.785, null, 19.35, 17.5, 16.75, 8.895, 7.71, null, 15.7, 16.7, 20.35, 12.5, 15.1, 14.0, 8.365, 10.695, 5.21, 13.65, 8.01, 5.88, 5.615, 19.7, null, 18.25, 15.35, null, 10.3, 13.65, 8.615, 5.8, 8.3, 16.0, 5.155, 8.895, 15.1, 15.5, 6.325, null, 9.3, null, 20.6, 15.5, 9.195, 5.695, null, 5.94, 6.36, null, 4.805, 14.85, 14.5, 10.3, 12.15, 11.5, 19.1, null, 15.5, 7.31, 18.7, 7.0, 12.5, 9.395, 10.5, 5.785, 16.7, 5.845, 9.395, 5.94, 6.15, 20.35, 17.1, null, 5.765, 12.65, 10.5, 18.25, 11.65, 19.2, 15.7, 10.3, 13.65, 16.6, 9.6, 11.85, null, 8.6, 20.7, 11.8, null, 12.6, 20.7, 15.85, 6.36, 9.3, null, 20.7, null, 18.85, 16.6, 12.5, 7.02, 12.85, 7.855, 19.35, 17.5, 17.75, 13.15, 5.365, 13.1, 7.075, 9.3, 12.3, 16.2, 18.85, 8.01, null, null, 17.35, null, 14.65, 12.8, null, 6.65, 6.675, 6.69, null, 7.6, 7.51, null, null, 11.0, null, 17.25, null, null, 6.36, 11.15, null, 18.0, 7.825, 14.85, null, 20.5, 10.395, null, 13.3, null, 19.35, 16.5, 5.63, 12.35, 9.8, 5.305, 18.5, 10.695, 6.525, 12.35, 7.935, 15.85, 5.615, 10.5, null, 8.85, 13.1, null, 15.1, 17.7, 14.65, 16.35, 19.85, 6.715, 20.85, null, 17.1, null, 17.85, 19.6, null, 12.5, 15.85, 6.78, 19.6, 17.5, 20.75, null, 9.3, 17.75, 17.0, null, 4.555, 10.1, 20.7, 8.785, 17.75, null, 5.465, null, null, null, 17.75, 16.2, 20.35, 8.185, 20.5, 8.42, 10.0, 7.5, null, 10.6, 20.6, null, 16.2, 20.25, 12.15, null, 8.21, 6.63, 6.935, null, 15.0, 7.825, 10.695, 18.85, 12.1, 8.945, 8.975, 20.2, 6.76, 9.0, 20.2, 19.0, 15.1, 14.1, 20.2, null, null, null, null, 20.25, 14.85, 20.7, 5.15, null, 12.6, 10.1, 15.25, 10.5, null, 14.65, 6.885, 7.285, 11.1, null, 10.5, null, 20.75, null, 11.85, 14.0, 20.2, 19.0, 16.0, null, 20.85, 19.0, 13.0, 10.0, 17.5, null, 19.5, 16.1, 8.6, null, 20.25, 9.6, 11.1, 13.0, null, 20.7, 5.78, 5.325, 7.5, 11.6, null, 6.44, 12.5, 7.825, 6.865, 7.5, 9.8, 19.0, 8.27, 17.85, 11.8, 20.6, 20.7, 15.25, 12.35, 12.5, 15.2, 18.25, 6.71, null, null, null, 12.35, 6.42, 14.65, 13.65, 20.2, 12.5, null, 5.48, null, 12.1, 16.7, 16.85, 7.365, 9.195, 14.3, 5.32, null, 13.65, 12.6, null, 10.6, null, 8.6, 19.85, 9.3, null, 7.76, 10.895, 10.8, null, 9.195, 19.6, 15.7, 18.85, 14.7, 15.0, 21.1, 17.0, 16.7, 8.6, 6.76, 8.77, null, 5.845, 16.7, 11.65, null, 14.3, null, 8.355, 13.15, 19.25, 5.035, 15.85, 15.35, 12.5, 18.35, null, 20.5, 13.85, 4.59, 10.0, 12.35, null, 20.0, 13.8, 9.5, 5.425, 16.75, 19.2, 10.5, 12.85, null, 6.36, null, 14.5, 7.02, 7.42, 17.25, 18.75, 20.25, 12.65, 12.5, 12.8, 6.655, 10.3, 14.6, 9.195, 13.65, 7.935, 20.75, 15.1, null, 10.1, null, 16.75, 9.13, 8.235, 16.85, null, 17.35, null, 14.5, 14.5, 9.395, 7.905, null, null, 8.5, 8.3, 7.975, 13.5, null, 5.785, 9.5, 16.75, null, 17.6, 18.2, 11.6, 6.865, 7.275, 18.2, 13.5, 9.0, 19.1, 17.85, 10.3, 6.38, null, 15.0, 15.1, 16.2, 5.945, 11.8, 19.7, null, 19.0, 12.3, 12.3, 8.1, 15.85, 14.85, 19.0, 5.485, 19.0, 16.1, 6.135, 11.6, 16.2, 15.6, 10.395, 14.5, 15.25, 10.1, 12.1, null, 8.3, 7.315, 15.6, null, 16.2, null, 17.5, 18.25, null, null, 12.1, 16.25, 7.785, 10.1, 12.35, 15.7, 20.35, null, null, 12.1, 20.35, 18.1, 12.6, 7.5, 20.5, 16.75, 17.85, 13.5, 12.85, 12.35, 10.1, 11.0, 14.15, 20.6, 5.765, 8.01, 10.8, 15.7, 8.6, null, 6.36, 5.32, null, null, null, 7.435, 6.615, 11.3, 10.895, 11.5, null, 7.55, 20.5, 5.325, 6.675, 16.5, 10.195, 19.2, 15.7, 18.7, 13.65, null, 6.11, 6.85, null, 7.475, 9.0, 15.1, 11.35, 15.0, 6.44, 6.445, 14.8, null, 8.18, 15.2, null, 8.76, 18.1, null, 5.305, 12.85, null, null, null, 15.0, 9.3, 19.25, 19.35, 11.35, 18.7, 6.055, 8.395, null, null, 9.195, 21.1, 20.35, 11.0, 10.1, null, 8.93, 9.0, 20.25, 5.765, 19.2, 9.195, 8.655, 11.5, null, 17.6, 19.35, 17.85, null, 19.35, 13.0, 13.65, null, 17.0, 15.25, null, 15.5, 7.145, 7.235, 10.5, null, 16.25, 10.0, 19.75, 8.42, 13.1, 9.6, 9.395, 10.895, null, 18.85, 9.195, 19.1, 5.03, 17.6, 21.25, 13.85, 6.98, 7.725, 14.7, 17.6, 15.85, 18.6, 16.7, 10.195, 6.965, 19.2, 6.78, 6.785, 19.1, null, 15.6, 16.35, 13.65, 7.155, 10.8, 13.5, 9.195, 6.825, 16.2, 20.85, 7.785, 9.8, null, null, null, 10.5, 8.88, 16.0, 16.2, 11.15, 16.2, 14.35, 7.72, 10.695, 13.35, 16.1, null, 13.6, 20.6, 11.65, 9.285, 10.3, 7.22, 20.85, null, 8.84, null, null, 16.35, 8.575, 20.5, 9.695, 8.38, 17.75, 13.5, null, 14.3, 8.3, 6.055, 20.7, 15.85, null, 12.3, 19.1, 8.27, null, 9.1, 17.2, 13.15, 15.7, 18.35, 16.5, 12.1, 7.51, null, 12.5, 8.06, 6.055, null, 14.3, 20.2, 18.6, 6.69, 19.35, 17.75, 16.1, 12.5, 5.785, 14.8, 7.75, 18.6, 6.965, 16.7, null, 13.35, 21.1, 12.3, 7.97, 14.15, 9.8, null, 19.85, null, 8.21, 20.25, 15.0, 15.6, 13.15, 10.6, 11.1, null, 15.25, 19.25, 7.39, 10.3, 17.5, null, 10.3, null, 7.85, 10.0, 7.22, null, 10.0, null, 5.175, null, 11.6, 18.0, null, 16.75, null, 13.65, 11.5, 17.75, null, 8.43, 9.0, 7.52, 13.65, null, 12.65, 17.35, 11.0, 8.27, null, null, 5.175, null, 9.895, 10.65, 15.2, 11.3, 15.1, 6.215, 8.235, null, 10.1, 11.6, 6.92, 16.7, 5.485, 13.6, null, 10.3, 6.765, 10.5, 12.5, 17.35, 8.85, 16.7, 8.85, 13.15, 8.18, 12.5, 6.865, 12.0, null, null, 5.885, 16.5, 7.52, 10.895, 7.935, 7.6, 11.0, 13.15, 10.195, 16.85, 8.195, 11.8, 14.6, 19.2, 12.15, 10.895, null, 7.42, 7.405, 7.315, 7.435, 12.65, 8.365, 19.75, 19.5, 19.7, 14.0, 11.8, 12.65, null, 12.85, 13.65, 9.3, 7.72, 11.15, 16.5, null, 17.2, null, 19.6, 17.25, 20.35, 14.3, null, 7.905, 7.905, 21.25, 10.5, null, 18.0, 7.725, 5.8, null, 10.85, 19.35, 13.15, 5.785, null, 10.195, 16.0, 10.695, 9.8, 7.72, null, 5.86, 5.4, null, 14.7, 19.75, 18.6, 12.5, 13.1, 6.195, 8.395, null, 16.0, 20.0, 8.26, 6.865, null, 20.0, null, null, 17.35, null, 10.395, 9.3, 7.42, 15.2, 9.695, 7.42, 13.65, 15.35, 11.6, 20.35, 5.34, 8.42, 20.5, null, 10.5, 17.25, 5.88, 11.35, 8.1, 13.8, 17.5, 20.7, 12.0, 15.0, 20.7, 18.6, 20.75, 6.865, 8.38, 10.6, 7.21, 14.8], \"y0\": \" \", \"yaxis\": \"y\"}],\n",
              "                        {\"boxmode\": \"group\", \"legend\": {\"tracegroupgap\": 0}, \"margin\": {\"t\": 60}, \"template\": {\"data\": {\"bar\": [{\"error_x\": {\"color\": \"#2a3f5f\"}, \"error_y\": {\"color\": \"#2a3f5f\"}, \"marker\": {\"line\": {\"color\": \"#E5ECF6\", \"width\": 0.5}}, \"type\": \"bar\"}], \"barpolar\": [{\"marker\": {\"line\": {\"color\": \"#E5ECF6\", \"width\": 0.5}}, \"type\": \"barpolar\"}], \"carpet\": [{\"aaxis\": {\"endlinecolor\": \"#2a3f5f\", \"gridcolor\": \"white\", \"linecolor\": \"white\", \"minorgridcolor\": \"white\", \"startlinecolor\": \"#2a3f5f\"}, \"baxis\": {\"endlinecolor\": \"#2a3f5f\", \"gridcolor\": \"white\", \"linecolor\": \"white\", \"minorgridcolor\": \"white\", \"startlinecolor\": \"#2a3f5f\"}, \"type\": \"carpet\"}], \"choropleth\": [{\"colorbar\": {\"outlinewidth\": 0, \"ticks\": \"\"}, \"type\": \"choropleth\"}], \"contour\": [{\"colorbar\": {\"outlinewidth\": 0, \"ticks\": \"\"}, \"colorscale\": [[0.0, \"#0d0887\"], [0.1111111111111111, \"#46039f\"], [0.2222222222222222, \"#7201a8\"], [0.3333333333333333, \"#9c179e\"], [0.4444444444444444, \"#bd3786\"], [0.5555555555555556, \"#d8576b\"], [0.6666666666666666, \"#ed7953\"], [0.7777777777777778, \"#fb9f3a\"], [0.8888888888888888, \"#fdca26\"], [1.0, \"#f0f921\"]], \"type\": \"contour\"}], \"contourcarpet\": [{\"colorbar\": {\"outlinewidth\": 0, \"ticks\": \"\"}, \"type\": \"contourcarpet\"}], \"heatmap\": [{\"colorbar\": {\"outlinewidth\": 0, \"ticks\": \"\"}, \"colorscale\": [[0.0, \"#0d0887\"], [0.1111111111111111, \"#46039f\"], [0.2222222222222222, \"#7201a8\"], [0.3333333333333333, \"#9c179e\"], [0.4444444444444444, \"#bd3786\"], [0.5555555555555556, \"#d8576b\"], [0.6666666666666666, \"#ed7953\"], [0.7777777777777778, \"#fb9f3a\"], [0.8888888888888888, \"#fdca26\"], [1.0, \"#f0f921\"]], \"type\": \"heatmap\"}], \"heatmapgl\": [{\"colorbar\": {\"outlinewidth\": 0, \"ticks\": \"\"}, \"colorscale\": [[0.0, \"#0d0887\"], [0.1111111111111111, \"#46039f\"], [0.2222222222222222, \"#7201a8\"], [0.3333333333333333, \"#9c179e\"], [0.4444444444444444, \"#bd3786\"], [0.5555555555555556, \"#d8576b\"], [0.6666666666666666, \"#ed7953\"], [0.7777777777777778, \"#fb9f3a\"], [0.8888888888888888, \"#fdca26\"], [1.0, \"#f0f921\"]], \"type\": \"heatmapgl\"}], \"histogram\": [{\"marker\": {\"colorbar\": {\"outlinewidth\": 0, \"ticks\": \"\"}}, \"type\": \"histogram\"}], \"histogram2d\": [{\"colorbar\": {\"outlinewidth\": 0, \"ticks\": \"\"}, \"colorscale\": [[0.0, \"#0d0887\"], [0.1111111111111111, \"#46039f\"], [0.2222222222222222, \"#7201a8\"], [0.3333333333333333, \"#9c179e\"], [0.4444444444444444, \"#bd3786\"], [0.5555555555555556, \"#d8576b\"], [0.6666666666666666, \"#ed7953\"], [0.7777777777777778, \"#fb9f3a\"], [0.8888888888888888, \"#fdca26\"], [1.0, \"#f0f921\"]], \"type\": \"histogram2d\"}], \"histogram2dcontour\": [{\"colorbar\": {\"outlinewidth\": 0, \"ticks\": \"\"}, \"colorscale\": [[0.0, \"#0d0887\"], [0.1111111111111111, \"#46039f\"], [0.2222222222222222, \"#7201a8\"], [0.3333333333333333, \"#9c179e\"], [0.4444444444444444, \"#bd3786\"], [0.5555555555555556, \"#d8576b\"], [0.6666666666666666, \"#ed7953\"], [0.7777777777777778, \"#fb9f3a\"], [0.8888888888888888, \"#fdca26\"], [1.0, \"#f0f921\"]], \"type\": \"histogram2dcontour\"}], \"mesh3d\": [{\"colorbar\": {\"outlinewidth\": 0, \"ticks\": \"\"}, \"type\": \"mesh3d\"}], \"parcoords\": [{\"line\": {\"colorbar\": {\"outlinewidth\": 0, \"ticks\": \"\"}}, \"type\": \"parcoords\"}], \"pie\": [{\"automargin\": true, \"type\": \"pie\"}], \"scatter\": [{\"marker\": {\"colorbar\": {\"outlinewidth\": 0, \"ticks\": \"\"}}, \"type\": \"scatter\"}], \"scatter3d\": [{\"line\": {\"colorbar\": {\"outlinewidth\": 0, \"ticks\": \"\"}}, \"marker\": {\"colorbar\": {\"outlinewidth\": 0, \"ticks\": \"\"}}, \"type\": \"scatter3d\"}], \"scattercarpet\": [{\"marker\": {\"colorbar\": {\"outlinewidth\": 0, \"ticks\": \"\"}}, \"type\": \"scattercarpet\"}], \"scattergeo\": [{\"marker\": {\"colorbar\": {\"outlinewidth\": 0, \"ticks\": \"\"}}, \"type\": \"scattergeo\"}], \"scattergl\": [{\"marker\": {\"colorbar\": {\"outlinewidth\": 0, \"ticks\": \"\"}}, \"type\": \"scattergl\"}], \"scattermapbox\": [{\"marker\": {\"colorbar\": {\"outlinewidth\": 0, \"ticks\": \"\"}}, \"type\": \"scattermapbox\"}], \"scatterpolar\": [{\"marker\": {\"colorbar\": {\"outlinewidth\": 0, \"ticks\": \"\"}}, \"type\": \"scatterpolar\"}], \"scatterpolargl\": [{\"marker\": {\"colorbar\": {\"outlinewidth\": 0, \"ticks\": \"\"}}, \"type\": \"scatterpolargl\"}], \"scatterternary\": [{\"marker\": {\"colorbar\": {\"outlinewidth\": 0, \"ticks\": \"\"}}, \"type\": \"scatterternary\"}], \"surface\": [{\"colorbar\": {\"outlinewidth\": 0, \"ticks\": \"\"}, \"colorscale\": [[0.0, \"#0d0887\"], [0.1111111111111111, \"#46039f\"], [0.2222222222222222, \"#7201a8\"], [0.3333333333333333, \"#9c179e\"], [0.4444444444444444, \"#bd3786\"], [0.5555555555555556, \"#d8576b\"], [0.6666666666666666, \"#ed7953\"], [0.7777777777777778, \"#fb9f3a\"], [0.8888888888888888, \"#fdca26\"], [1.0, \"#f0f921\"]], \"type\": \"surface\"}], \"table\": [{\"cells\": {\"fill\": {\"color\": \"#EBF0F8\"}, \"line\": {\"color\": \"white\"}}, \"header\": {\"fill\": {\"color\": \"#C8D4E3\"}, \"line\": {\"color\": \"white\"}}, \"type\": \"table\"}]}, \"layout\": {\"annotationdefaults\": {\"arrowcolor\": \"#2a3f5f\", \"arrowhead\": 0, \"arrowwidth\": 1}, \"coloraxis\": {\"colorbar\": {\"outlinewidth\": 0, \"ticks\": \"\"}}, \"colorscale\": {\"diverging\": [[0, \"#8e0152\"], [0.1, \"#c51b7d\"], [0.2, \"#de77ae\"], [0.3, \"#f1b6da\"], [0.4, \"#fde0ef\"], [0.5, \"#f7f7f7\"], [0.6, \"#e6f5d0\"], [0.7, \"#b8e186\"], [0.8, \"#7fbc41\"], [0.9, \"#4d9221\"], [1, \"#276419\"]], \"sequential\": [[0.0, \"#0d0887\"], [0.1111111111111111, \"#46039f\"], [0.2222222222222222, \"#7201a8\"], [0.3333333333333333, \"#9c179e\"], [0.4444444444444444, \"#bd3786\"], [0.5555555555555556, \"#d8576b\"], [0.6666666666666666, \"#ed7953\"], [0.7777777777777778, \"#fb9f3a\"], [0.8888888888888888, \"#fdca26\"], [1.0, \"#f0f921\"]], \"sequentialminus\": [[0.0, \"#0d0887\"], [0.1111111111111111, \"#46039f\"], [0.2222222222222222, \"#7201a8\"], [0.3333333333333333, \"#9c179e\"], [0.4444444444444444, \"#bd3786\"], [0.5555555555555556, \"#d8576b\"], [0.6666666666666666, \"#ed7953\"], [0.7777777777777778, \"#fb9f3a\"], [0.8888888888888888, \"#fdca26\"], [1.0, \"#f0f921\"]]}, \"colorway\": [\"#636efa\", \"#EF553B\", \"#00cc96\", \"#ab63fa\", \"#FFA15A\", \"#19d3f3\", \"#FF6692\", \"#B6E880\", \"#FF97FF\", \"#FECB52\"], \"font\": {\"color\": \"#2a3f5f\"}, \"geo\": {\"bgcolor\": \"white\", \"lakecolor\": \"white\", \"landcolor\": \"#E5ECF6\", \"showlakes\": true, \"showland\": true, \"subunitcolor\": \"white\"}, \"hoverlabel\": {\"align\": \"left\"}, \"hovermode\": \"closest\", \"mapbox\": {\"style\": \"light\"}, \"paper_bgcolor\": \"white\", \"plot_bgcolor\": \"#E5ECF6\", \"polar\": {\"angularaxis\": {\"gridcolor\": \"white\", \"linecolor\": \"white\", \"ticks\": \"\"}, \"bgcolor\": \"#E5ECF6\", \"radialaxis\": {\"gridcolor\": \"white\", \"linecolor\": \"white\", \"ticks\": \"\"}}, \"scene\": {\"xaxis\": {\"backgroundcolor\": \"#E5ECF6\", \"gridcolor\": \"white\", \"gridwidth\": 2, \"linecolor\": \"white\", \"showbackground\": true, \"ticks\": \"\", \"zerolinecolor\": \"white\"}, \"yaxis\": {\"backgroundcolor\": \"#E5ECF6\", \"gridcolor\": \"white\", \"gridwidth\": 2, \"linecolor\": \"white\", \"showbackground\": true, \"ticks\": \"\", \"zerolinecolor\": \"white\"}, \"zaxis\": {\"backgroundcolor\": \"#E5ECF6\", \"gridcolor\": \"white\", \"gridwidth\": 2, \"linecolor\": \"white\", \"showbackground\": true, \"ticks\": \"\", \"zerolinecolor\": \"white\"}}, \"shapedefaults\": {\"line\": {\"color\": \"#2a3f5f\"}}, \"ternary\": {\"aaxis\": {\"gridcolor\": \"white\", \"linecolor\": \"white\", \"ticks\": \"\"}, \"baxis\": {\"gridcolor\": \"white\", \"linecolor\": \"white\", \"ticks\": \"\"}, \"bgcolor\": \"#E5ECF6\", \"caxis\": {\"gridcolor\": \"white\", \"linecolor\": \"white\", \"ticks\": \"\"}}, \"title\": {\"x\": 0.05}, \"xaxis\": {\"automargin\": true, \"gridcolor\": \"white\", \"linecolor\": \"white\", \"ticks\": \"\", \"title\": {\"standoff\": 15}, \"zerolinecolor\": \"white\", \"zerolinewidth\": 2}, \"yaxis\": {\"automargin\": true, \"gridcolor\": \"white\", \"linecolor\": \"white\", \"ticks\": \"\", \"title\": {\"standoff\": 15}, \"zerolinecolor\": \"white\", \"zerolinewidth\": 2}}}, \"xaxis\": {\"anchor\": \"y\", \"domain\": [0.0, 1.0]}, \"yaxis\": {\"anchor\": \"x\", \"domain\": [0.0, 1.0], \"title\": {\"text\": \"Item_Weight\"}}},\n",
              "                        {\"responsive\": true}\n",
              "                    ).then(function(){\n",
              "                            \n",
              "var gd = document.getElementById('3b935f79-d45e-4df9-a1b1-e7664d456b2f');\n",
              "var x = new MutationObserver(function (mutations, observer) {{\n",
              "        var display = window.getComputedStyle(gd).display;\n",
              "        if (!display || display === 'none') {{\n",
              "            console.log([gd, 'removed!']);\n",
              "            Plotly.purge(gd);\n",
              "            observer.disconnect();\n",
              "        }}\n",
              "}});\n",
              "\n",
              "// Listen for the removal of the full notebook cells\n",
              "var notebookContainer = gd.closest('#notebook-container');\n",
              "if (notebookContainer) {{\n",
              "    x.observe(notebookContainer, {childList: true});\n",
              "}}\n",
              "\n",
              "// Listen for the clearing of the current output cell\n",
              "var outputEl = gd.closest('.output');\n",
              "if (outputEl) {{\n",
              "    x.observe(outputEl, {childList: true});\n",
              "}}\n",
              "\n",
              "                        })\n",
              "                };\n",
              "                \n",
              "            </script>\n",
              "        </div>\n",
              "</body>\n",
              "</html>"
            ]
          },
          "metadata": {}
        }
      ]
    },
    {
      "cell_type": "code",
      "source": [
        "# let's use the mean to impute as based on the above chart, we are clear of outliers\n",
        "\n",
        "df['Item_Weight'].fillna(df['Item_Weight'].mean(),inplace=True)"
      ],
      "metadata": {
        "id": "4tsaUg3c2hqd"
      },
      "execution_count": 10,
      "outputs": []
    },
    {
      "cell_type": "markdown",
      "source": [
        "![image.png](data:image/png;base64,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)"
      ],
      "metadata": {
        "id": "GFPFe_oP4MdT"
      }
    },
    {
      "cell_type": "code",
      "source": [
        "# recheck if we have more null at this column\n",
        "\n",
        "df['Item_Weight'].isnull().sum()"
      ],
      "metadata": {
        "colab": {
          "base_uri": "https://localhost:8080/"
        },
        "id": "4X_pJ-G62hhR",
        "outputId": "900e4b63-0498-4bb6-a3d9-9092bb53293e"
      },
      "execution_count": 12,
      "outputs": [
        {
          "output_type": "execute_result",
          "data": {
            "text/plain": [
              "0"
            ]
          },
          "metadata": {},
          "execution_count": 12
        }
      ]
    },
    {
      "cell_type": "code",
      "source": [
        "#impute categorical data with its mode\n",
        "\n",
        "df['Outlet_Size'].fillna(df['Outlet_Size'].mode()[0],inplace=True)\n",
        "df['Outlet_Size'].isnull().sum()"
      ],
      "metadata": {
        "colab": {
          "base_uri": "https://localhost:8080/"
        },
        "id": "VmG_DWnc4gKS",
        "outputId": "cf4aff2b-e568-4340-e123-d50e5d9b8b19"
      },
      "execution_count": 13,
      "outputs": [
        {
          "output_type": "execute_result",
          "data": {
            "text/plain": [
              "0"
            ]
          },
          "metadata": {},
          "execution_count": 13
        }
      ]
    },
    {
      "cell_type": "code",
      "source": [
        "# Outlet Type vs Sales\n",
        "\n",
        "outlet_type_sales = df.groupby(\"Outlet_Type\")[['Item_Outlet_Sales']].sum()\n",
        "pd.set_option('display.float_format',lambda x: '%.3f' % x) #converting from scientific notation to numerical format\n",
        "outlet_type_sales.sort_values(by=['Item_Outlet_Sales'],ascending=False)"
      ],
      "metadata": {
        "colab": {
          "base_uri": "https://localhost:8080/",
          "height": 206
        },
        "id": "bQ5WB4wj4gBV",
        "outputId": "884443f1-ac3e-48a6-cbe3-1f18e2f20e6a"
      },
      "execution_count": 14,
      "outputs": [
        {
          "output_type": "execute_result",
          "data": {
            "text/html": [
              "\n",
              "  <div id=\"df-0406a669-007b-45ca-967d-f8510873817f\">\n",
              "    <div class=\"colab-df-container\">\n",
              "      <div>\n",
              "<style scoped>\n",
              "    .dataframe tbody tr th:only-of-type {\n",
              "        vertical-align: middle;\n",
              "    }\n",
              "\n",
              "    .dataframe tbody tr th {\n",
              "        vertical-align: top;\n",
              "    }\n",
              "\n",
              "    .dataframe thead th {\n",
              "        text-align: right;\n",
              "    }\n",
              "</style>\n",
              "<table border=\"1\" class=\"dataframe\">\n",
              "  <thead>\n",
              "    <tr style=\"text-align: right;\">\n",
              "      <th></th>\n",
              "      <th>Item_Outlet_Sales</th>\n",
              "    </tr>\n",
              "    <tr>\n",
              "      <th>Outlet_Type</th>\n",
              "      <th></th>\n",
              "    </tr>\n",
              "  </thead>\n",
              "  <tbody>\n",
              "    <tr>\n",
              "      <th>Supermarket Type1</th>\n",
              "      <td>12917342.263</td>\n",
              "    </tr>\n",
              "    <tr>\n",
              "      <th>Supermarket Type3</th>\n",
              "      <td>3453926.051</td>\n",
              "    </tr>\n",
              "    <tr>\n",
              "      <th>Supermarket Type2</th>\n",
              "      <td>1851822.830</td>\n",
              "    </tr>\n",
              "    <tr>\n",
              "      <th>Grocery Store</th>\n",
              "      <td>368034.266</td>\n",
              "    </tr>\n",
              "  </tbody>\n",
              "</table>\n",
              "</div>\n",
              "      <button class=\"colab-df-convert\" onclick=\"convertToInteractive('df-0406a669-007b-45ca-967d-f8510873817f')\"\n",
              "              title=\"Convert this dataframe to an interactive table.\"\n",
              "              style=\"display:none;\">\n",
              "        \n",
              "  <svg xmlns=\"http://www.w3.org/2000/svg\" height=\"24px\"viewBox=\"0 0 24 24\"\n",
              "       width=\"24px\">\n",
              "    <path d=\"M0 0h24v24H0V0z\" fill=\"none\"/>\n",
              "    <path d=\"M18.56 5.44l.94 2.06.94-2.06 2.06-.94-2.06-.94-.94-2.06-.94 2.06-2.06.94zm-11 1L8.5 8.5l.94-2.06 2.06-.94-2.06-.94L8.5 2.5l-.94 2.06-2.06.94zm10 10l.94 2.06.94-2.06 2.06-.94-2.06-.94-.94-2.06-.94 2.06-2.06.94z\"/><path d=\"M17.41 7.96l-1.37-1.37c-.4-.4-.92-.59-1.43-.59-.52 0-1.04.2-1.43.59L10.3 9.45l-7.72 7.72c-.78.78-.78 2.05 0 2.83L4 21.41c.39.39.9.59 1.41.59.51 0 1.02-.2 1.41-.59l7.78-7.78 2.81-2.81c.8-.78.8-2.07 0-2.86zM5.41 20L4 18.59l7.72-7.72 1.47 1.35L5.41 20z\"/>\n",
              "  </svg>\n",
              "      </button>\n",
              "      \n",
              "  <style>\n",
              "    .colab-df-container {\n",
              "      display:flex;\n",
              "      flex-wrap:wrap;\n",
              "      gap: 12px;\n",
              "    }\n",
              "\n",
              "    .colab-df-convert {\n",
              "      background-color: #E8F0FE;\n",
              "      border: none;\n",
              "      border-radius: 50%;\n",
              "      cursor: pointer;\n",
              "      display: none;\n",
              "      fill: #1967D2;\n",
              "      height: 32px;\n",
              "      padding: 0 0 0 0;\n",
              "      width: 32px;\n",
              "    }\n",
              "\n",
              "    .colab-df-convert:hover {\n",
              "      background-color: #E2EBFA;\n",
              "      box-shadow: 0px 1px 2px rgba(60, 64, 67, 0.3), 0px 1px 3px 1px rgba(60, 64, 67, 0.15);\n",
              "      fill: #174EA6;\n",
              "    }\n",
              "\n",
              "    [theme=dark] .colab-df-convert {\n",
              "      background-color: #3B4455;\n",
              "      fill: #D2E3FC;\n",
              "    }\n",
              "\n",
              "    [theme=dark] .colab-df-convert:hover {\n",
              "      background-color: #434B5C;\n",
              "      box-shadow: 0px 1px 3px 1px rgba(0, 0, 0, 0.15);\n",
              "      filter: drop-shadow(0px 1px 2px rgba(0, 0, 0, 0.3));\n",
              "      fill: #FFFFFF;\n",
              "    }\n",
              "  </style>\n",
              "\n",
              "      <script>\n",
              "        const buttonEl =\n",
              "          document.querySelector('#df-0406a669-007b-45ca-967d-f8510873817f button.colab-df-convert');\n",
              "        buttonEl.style.display =\n",
              "          google.colab.kernel.accessAllowed ? 'block' : 'none';\n",
              "\n",
              "        async function convertToInteractive(key) {\n",
              "          const element = document.querySelector('#df-0406a669-007b-45ca-967d-f8510873817f');\n",
              "          const dataTable =\n",
              "            await google.colab.kernel.invokeFunction('convertToInteractive',\n",
              "                                                     [key], {});\n",
              "          if (!dataTable) return;\n",
              "\n",
              "          const docLinkHtml = 'Like what you see? Visit the ' +\n",
              "            '<a target=\"_blank\" href=https://colab.research.google.com/notebooks/data_table.ipynb>data table notebook</a>'\n",
              "            + ' to learn more about interactive tables.';\n",
              "          element.innerHTML = '';\n",
              "          dataTable['output_type'] = 'display_data';\n",
              "          await google.colab.output.renderOutput(dataTable, element);\n",
              "          const docLink = document.createElement('div');\n",
              "          docLink.innerHTML = docLinkHtml;\n",
              "          element.appendChild(docLink);\n",
              "        }\n",
              "      </script>\n",
              "    </div>\n",
              "  </div>\n",
              "  "
            ],
            "text/plain": [
              "                   Item_Outlet_Sales\n",
              "Outlet_Type                         \n",
              "Supermarket Type1       12917342.263\n",
              "Supermarket Type3        3453926.051\n",
              "Supermarket Type2        1851822.830\n",
              "Grocery Store             368034.266"
            ]
          },
          "metadata": {},
          "execution_count": 14
        }
      ]
    },
    {
      "cell_type": "code",
      "source": [
        "# visualize it\n",
        "\n",
        "data = df.groupby(\"Outlet_Type\")[['Item_Outlet_Sales']].sum().sort_values(by=['Item_Outlet_Sales'],ascending=False).reset_index()\n",
        "px.bar(data, x='Outlet_Type', y='Item_Outlet_Sales',color= 'Outlet_Type',color_discrete_sequence=px.colors.qualitative.Plotly)"
      ],
      "metadata": {
        "colab": {
          "base_uri": "https://localhost:8080/",
          "height": 542
        },
        "id": "IteD1JHa6tX8",
        "outputId": "2e23ed68-1ba1-4941-90ca-1ead1c932c2b"
      },
      "execution_count": 18,
      "outputs": [
        {
          "output_type": "display_data",
          "data": {
            "text/html": [
              "<html>\n",
              "<head><meta charset=\"utf-8\" /></head>\n",
              "<body>\n",
              "    <div>\n",
              "            <script src=\"https://cdnjs.cloudflare.com/ajax/libs/mathjax/2.7.5/MathJax.js?config=TeX-AMS-MML_SVG\"></script><script type=\"text/javascript\">if (window.MathJax) {MathJax.Hub.Config({SVG: {font: \"STIX-Web\"}});}</script>\n",
              "                <script type=\"text/javascript\">window.PlotlyConfig = {MathJaxConfig: 'local'};</script>\n",
              "        <script src=\"https://cdn.plot.ly/plotly-latest.min.js\"></script>    \n",
              "            <div id=\"6165c3c9-4c69-4960-bc69-09a115a4474b\" class=\"plotly-graph-div\" style=\"height:525px; width:100%;\"></div>\n",
              "            <script type=\"text/javascript\">\n",
              "                \n",
              "                    window.PLOTLYENV=window.PLOTLYENV || {};\n",
              "                    \n",
              "                if (document.getElementById(\"6165c3c9-4c69-4960-bc69-09a115a4474b\")) {\n",
              "                    Plotly.newPlot(\n",
              "                        '6165c3c9-4c69-4960-bc69-09a115a4474b',\n",
              "                        [{\"alignmentgroup\": \"True\", \"hoverlabel\": {\"namelength\": 0}, \"hovertemplate\": \"Outlet_Type=%{x}<br>Item_Outlet_Sales=%{y}\", \"legendgroup\": \"Outlet_Type=Supermarket Type1\", \"marker\": {\"color\": \"#636EFA\"}, \"name\": \"Outlet_Type=Supermarket Type1\", \"offsetgroup\": \"Outlet_Type=Supermarket Type1\", \"orientation\": \"v\", \"showlegend\": true, \"textposition\": \"auto\", \"type\": \"bar\", \"x\": [\"Supermarket Type1\"], \"xaxis\": \"x\", \"y\": [12917342.262999993], \"yaxis\": \"y\"}, {\"alignmentgroup\": \"True\", \"hoverlabel\": {\"namelength\": 0}, \"hovertemplate\": \"Outlet_Type=%{x}<br>Item_Outlet_Sales=%{y}\", \"legendgroup\": \"Outlet_Type=Supermarket Type3\", \"marker\": {\"color\": \"#EF553B\"}, \"name\": \"Outlet_Type=Supermarket Type3\", \"offsetgroup\": \"Outlet_Type=Supermarket Type3\", \"orientation\": \"v\", \"showlegend\": true, \"textposition\": \"auto\", \"type\": \"bar\", \"x\": [\"Supermarket Type3\"], \"xaxis\": \"x\", \"y\": [3453926.0514], \"yaxis\": \"y\"}, {\"alignmentgroup\": \"True\", \"hoverlabel\": {\"namelength\": 0}, \"hovertemplate\": \"Outlet_Type=%{x}<br>Item_Outlet_Sales=%{y}\", \"legendgroup\": \"Outlet_Type=Supermarket Type2\", \"marker\": {\"color\": \"#00CC96\"}, \"name\": \"Outlet_Type=Supermarket Type2\", \"offsetgroup\": \"Outlet_Type=Supermarket Type2\", \"orientation\": \"v\", \"showlegend\": true, \"textposition\": \"auto\", \"type\": \"bar\", \"x\": [\"Supermarket Type2\"], \"xaxis\": \"x\", \"y\": [1851822.8300000012], \"yaxis\": \"y\"}, {\"alignmentgroup\": \"True\", \"hoverlabel\": {\"namelength\": 0}, \"hovertemplate\": \"Outlet_Type=%{x}<br>Item_Outlet_Sales=%{y}\", \"legendgroup\": \"Outlet_Type=Grocery Store\", \"marker\": {\"color\": \"#AB63FA\"}, \"name\": \"Outlet_Type=Grocery Store\", \"offsetgroup\": \"Outlet_Type=Grocery Store\", \"orientation\": \"v\", \"showlegend\": true, \"textposition\": \"auto\", \"type\": \"bar\", \"x\": [\"Grocery Store\"], \"xaxis\": \"x\", \"y\": [368034.266], \"yaxis\": \"y\"}],\n",
              "                        {\"barmode\": \"relative\", \"legend\": {\"tracegroupgap\": 0}, \"margin\": {\"t\": 60}, \"template\": {\"data\": {\"bar\": [{\"error_x\": {\"color\": \"#2a3f5f\"}, \"error_y\": {\"color\": \"#2a3f5f\"}, \"marker\": {\"line\": {\"color\": \"#E5ECF6\", \"width\": 0.5}}, \"type\": \"bar\"}], \"barpolar\": [{\"marker\": {\"line\": {\"color\": \"#E5ECF6\", \"width\": 0.5}}, \"type\": \"barpolar\"}], \"carpet\": [{\"aaxis\": {\"endlinecolor\": \"#2a3f5f\", \"gridcolor\": \"white\", \"linecolor\": \"white\", \"minorgridcolor\": \"white\", \"startlinecolor\": \"#2a3f5f\"}, \"baxis\": {\"endlinecolor\": \"#2a3f5f\", \"gridcolor\": \"white\", \"linecolor\": \"white\", \"minorgridcolor\": \"white\", \"startlinecolor\": \"#2a3f5f\"}, \"type\": \"carpet\"}], \"choropleth\": [{\"colorbar\": {\"outlinewidth\": 0, \"ticks\": \"\"}, \"type\": \"choropleth\"}], \"contour\": [{\"colorbar\": {\"outlinewidth\": 0, \"ticks\": \"\"}, \"colorscale\": [[0.0, \"#0d0887\"], [0.1111111111111111, \"#46039f\"], [0.2222222222222222, \"#7201a8\"], [0.3333333333333333, \"#9c179e\"], [0.4444444444444444, \"#bd3786\"], [0.5555555555555556, \"#d8576b\"], [0.6666666666666666, \"#ed7953\"], [0.7777777777777778, \"#fb9f3a\"], [0.8888888888888888, \"#fdca26\"], [1.0, \"#f0f921\"]], \"type\": \"contour\"}], \"contourcarpet\": [{\"colorbar\": {\"outlinewidth\": 0, \"ticks\": \"\"}, \"type\": \"contourcarpet\"}], \"heatmap\": [{\"colorbar\": {\"outlinewidth\": 0, \"ticks\": \"\"}, \"colorscale\": [[0.0, \"#0d0887\"], [0.1111111111111111, \"#46039f\"], [0.2222222222222222, \"#7201a8\"], [0.3333333333333333, \"#9c179e\"], [0.4444444444444444, \"#bd3786\"], [0.5555555555555556, \"#d8576b\"], [0.6666666666666666, \"#ed7953\"], [0.7777777777777778, \"#fb9f3a\"], [0.8888888888888888, \"#fdca26\"], [1.0, \"#f0f921\"]], \"type\": \"heatmap\"}], \"heatmapgl\": [{\"colorbar\": {\"outlinewidth\": 0, \"ticks\": \"\"}, \"colorscale\": [[0.0, \"#0d0887\"], [0.1111111111111111, \"#46039f\"], [0.2222222222222222, \"#7201a8\"], [0.3333333333333333, \"#9c179e\"], [0.4444444444444444, \"#bd3786\"], [0.5555555555555556, \"#d8576b\"], [0.6666666666666666, \"#ed7953\"], [0.7777777777777778, \"#fb9f3a\"], [0.8888888888888888, \"#fdca26\"], [1.0, \"#f0f921\"]], \"type\": \"heatmapgl\"}], \"histogram\": [{\"marker\": {\"colorbar\": {\"outlinewidth\": 0, \"ticks\": \"\"}}, \"type\": \"histogram\"}], \"histogram2d\": [{\"colorbar\": {\"outlinewidth\": 0, \"ticks\": \"\"}, \"colorscale\": [[0.0, \"#0d0887\"], [0.1111111111111111, \"#46039f\"], [0.2222222222222222, \"#7201a8\"], [0.3333333333333333, \"#9c179e\"], [0.4444444444444444, \"#bd3786\"], [0.5555555555555556, \"#d8576b\"], [0.6666666666666666, \"#ed7953\"], [0.7777777777777778, \"#fb9f3a\"], [0.8888888888888888, \"#fdca26\"], [1.0, \"#f0f921\"]], \"type\": \"histogram2d\"}], \"histogram2dcontour\": [{\"colorbar\": {\"outlinewidth\": 0, \"ticks\": \"\"}, \"colorscale\": [[0.0, \"#0d0887\"], [0.1111111111111111, \"#46039f\"], [0.2222222222222222, \"#7201a8\"], [0.3333333333333333, \"#9c179e\"], [0.4444444444444444, \"#bd3786\"], [0.5555555555555556, \"#d8576b\"], [0.6666666666666666, \"#ed7953\"], [0.7777777777777778, \"#fb9f3a\"], [0.8888888888888888, \"#fdca26\"], [1.0, \"#f0f921\"]], \"type\": \"histogram2dcontour\"}], \"mesh3d\": [{\"colorbar\": {\"outlinewidth\": 0, \"ticks\": \"\"}, \"type\": \"mesh3d\"}], \"parcoords\": [{\"line\": {\"colorbar\": {\"outlinewidth\": 0, \"ticks\": \"\"}}, \"type\": \"parcoords\"}], \"pie\": [{\"automargin\": true, \"type\": \"pie\"}], \"scatter\": [{\"marker\": {\"colorbar\": {\"outlinewidth\": 0, \"ticks\": \"\"}}, \"type\": \"scatter\"}], \"scatter3d\": [{\"line\": {\"colorbar\": {\"outlinewidth\": 0, \"ticks\": \"\"}}, \"marker\": {\"colorbar\": {\"outlinewidth\": 0, \"ticks\": \"\"}}, \"type\": \"scatter3d\"}], \"scattercarpet\": [{\"marker\": {\"colorbar\": {\"outlinewidth\": 0, \"ticks\": \"\"}}, \"type\": \"scattercarpet\"}], \"scattergeo\": [{\"marker\": {\"colorbar\": {\"outlinewidth\": 0, \"ticks\": \"\"}}, \"type\": \"scattergeo\"}], \"scattergl\": [{\"marker\": {\"colorbar\": {\"outlinewidth\": 0, \"ticks\": \"\"}}, \"type\": \"scattergl\"}], \"scattermapbox\": [{\"marker\": {\"colorbar\": {\"outlinewidth\": 0, \"ticks\": \"\"}}, \"type\": \"scattermapbox\"}], \"scatterpolar\": [{\"marker\": {\"colorbar\": {\"outlinewidth\": 0, \"ticks\": \"\"}}, \"type\": \"scatterpolar\"}], \"scatterpolargl\": [{\"marker\": {\"colorbar\": {\"outlinewidth\": 0, \"ticks\": \"\"}}, \"type\": \"scatterpolargl\"}], \"scatterternary\": [{\"marker\": {\"colorbar\": {\"outlinewidth\": 0, \"ticks\": \"\"}}, \"type\": \"scatterternary\"}], \"surface\": [{\"colorbar\": {\"outlinewidth\": 0, \"ticks\": \"\"}, \"colorscale\": [[0.0, \"#0d0887\"], [0.1111111111111111, \"#46039f\"], [0.2222222222222222, \"#7201a8\"], [0.3333333333333333, \"#9c179e\"], [0.4444444444444444, \"#bd3786\"], [0.5555555555555556, \"#d8576b\"], [0.6666666666666666, \"#ed7953\"], [0.7777777777777778, \"#fb9f3a\"], [0.8888888888888888, \"#fdca26\"], [1.0, \"#f0f921\"]], \"type\": \"surface\"}], \"table\": [{\"cells\": {\"fill\": {\"color\": \"#EBF0F8\"}, \"line\": {\"color\": \"white\"}}, \"header\": {\"fill\": {\"color\": \"#C8D4E3\"}, \"line\": {\"color\": \"white\"}}, \"type\": \"table\"}]}, \"layout\": {\"annotationdefaults\": {\"arrowcolor\": \"#2a3f5f\", \"arrowhead\": 0, \"arrowwidth\": 1}, \"coloraxis\": {\"colorbar\": {\"outlinewidth\": 0, \"ticks\": \"\"}}, \"colorscale\": {\"diverging\": [[0, \"#8e0152\"], [0.1, \"#c51b7d\"], [0.2, \"#de77ae\"], [0.3, \"#f1b6da\"], [0.4, \"#fde0ef\"], [0.5, \"#f7f7f7\"], [0.6, \"#e6f5d0\"], [0.7, \"#b8e186\"], [0.8, \"#7fbc41\"], [0.9, \"#4d9221\"], [1, \"#276419\"]], \"sequential\": [[0.0, \"#0d0887\"], [0.1111111111111111, \"#46039f\"], [0.2222222222222222, \"#7201a8\"], [0.3333333333333333, \"#9c179e\"], [0.4444444444444444, \"#bd3786\"], [0.5555555555555556, \"#d8576b\"], [0.6666666666666666, \"#ed7953\"], [0.7777777777777778, \"#fb9f3a\"], [0.8888888888888888, \"#fdca26\"], [1.0, \"#f0f921\"]], \"sequentialminus\": [[0.0, \"#0d0887\"], [0.1111111111111111, \"#46039f\"], [0.2222222222222222, \"#7201a8\"], [0.3333333333333333, \"#9c179e\"], [0.4444444444444444, \"#bd3786\"], [0.5555555555555556, \"#d8576b\"], [0.6666666666666666, \"#ed7953\"], [0.7777777777777778, \"#fb9f3a\"], [0.8888888888888888, \"#fdca26\"], [1.0, \"#f0f921\"]]}, \"colorway\": [\"#636efa\", \"#EF553B\", \"#00cc96\", \"#ab63fa\", \"#FFA15A\", \"#19d3f3\", \"#FF6692\", \"#B6E880\", \"#FF97FF\", \"#FECB52\"], \"font\": {\"color\": \"#2a3f5f\"}, \"geo\": {\"bgcolor\": \"white\", \"lakecolor\": \"white\", \"landcolor\": \"#E5ECF6\", \"showlakes\": true, \"showland\": true, \"subunitcolor\": \"white\"}, \"hoverlabel\": {\"align\": \"left\"}, \"hovermode\": \"closest\", \"mapbox\": {\"style\": \"light\"}, \"paper_bgcolor\": \"white\", \"plot_bgcolor\": \"#E5ECF6\", \"polar\": {\"angularaxis\": {\"gridcolor\": \"white\", \"linecolor\": \"white\", \"ticks\": \"\"}, \"bgcolor\": \"#E5ECF6\", \"radialaxis\": {\"gridcolor\": \"white\", \"linecolor\": \"white\", \"ticks\": \"\"}}, \"scene\": {\"xaxis\": {\"backgroundcolor\": \"#E5ECF6\", \"gridcolor\": \"white\", \"gridwidth\": 2, \"linecolor\": \"white\", \"showbackground\": true, \"ticks\": \"\", \"zerolinecolor\": \"white\"}, \"yaxis\": {\"backgroundcolor\": \"#E5ECF6\", \"gridcolor\": \"white\", \"gridwidth\": 2, \"linecolor\": \"white\", \"showbackground\": true, \"ticks\": \"\", \"zerolinecolor\": \"white\"}, \"zaxis\": {\"backgroundcolor\": \"#E5ECF6\", \"gridcolor\": \"white\", \"gridwidth\": 2, \"linecolor\": \"white\", \"showbackground\": true, \"ticks\": \"\", \"zerolinecolor\": \"white\"}}, \"shapedefaults\": {\"line\": {\"color\": \"#2a3f5f\"}}, \"ternary\": {\"aaxis\": {\"gridcolor\": \"white\", \"linecolor\": \"white\", \"ticks\": \"\"}, \"baxis\": {\"gridcolor\": \"white\", \"linecolor\": \"white\", \"ticks\": \"\"}, \"bgcolor\": \"#E5ECF6\", \"caxis\": {\"gridcolor\": \"white\", \"linecolor\": \"white\", \"ticks\": \"\"}}, \"title\": {\"x\": 0.05}, \"xaxis\": {\"automargin\": true, \"gridcolor\": \"white\", \"linecolor\": \"white\", \"ticks\": \"\", \"title\": {\"standoff\": 15}, \"zerolinecolor\": \"white\", \"zerolinewidth\": 2}, \"yaxis\": {\"automargin\": true, \"gridcolor\": \"white\", \"linecolor\": \"white\", \"ticks\": \"\", \"title\": {\"standoff\": 15}, \"zerolinecolor\": \"white\", \"zerolinewidth\": 2}}}, \"xaxis\": {\"anchor\": \"y\", \"categoryarray\": [\"Supermarket Type1\", \"Supermarket Type3\", \"Supermarket Type2\", \"Grocery Store\"], \"categoryorder\": \"array\", \"domain\": [0.0, 1.0], \"title\": {\"text\": \"Outlet_Type\"}}, \"yaxis\": {\"anchor\": \"x\", \"domain\": [0.0, 1.0], \"title\": {\"text\": \"Item_Outlet_Sales\"}}},\n",
              "                        {\"responsive\": true}\n",
              "                    ).then(function(){\n",
              "                            \n",
              "var gd = document.getElementById('6165c3c9-4c69-4960-bc69-09a115a4474b');\n",
              "var x = new MutationObserver(function (mutations, observer) {{\n",
              "        var display = window.getComputedStyle(gd).display;\n",
              "        if (!display || display === 'none') {{\n",
              "            console.log([gd, 'removed!']);\n",
              "            Plotly.purge(gd);\n",
              "            observer.disconnect();\n",
              "        }}\n",
              "}});\n",
              "\n",
              "// Listen for the removal of the full notebook cells\n",
              "var notebookContainer = gd.closest('#notebook-container');\n",
              "if (notebookContainer) {{\n",
              "    x.observe(notebookContainer, {childList: true});\n",
              "}}\n",
              "\n",
              "// Listen for the clearing of the current output cell\n",
              "var outputEl = gd.closest('.output');\n",
              "if (outputEl) {{\n",
              "    x.observe(outputEl, {childList: true});\n",
              "}}\n",
              "\n",
              "                        })\n",
              "                };\n",
              "                \n",
              "            </script>\n",
              "        </div>\n",
              "</body>\n",
              "</html>"
            ]
          },
          "metadata": {}
        }
      ]
    },
    {
      "cell_type": "code",
      "source": [
        "fig = px.colors.qualitative.swatches()\n",
        "fig.show()"
      ],
      "metadata": {
        "colab": {
          "base_uri": "https://localhost:8080/",
          "height": 777
        },
        "id": "stKM9rRK6tPX",
        "outputId": "d1459d12-6968-4809-b681-589d7e7399bc"
      },
      "execution_count": 17,
      "outputs": [
        {
          "output_type": "display_data",
          "data": {
            "text/html": [
              "<html>\n",
              "<head><meta charset=\"utf-8\" /></head>\n",
              "<body>\n",
              "    <div>\n",
              "            <script src=\"https://cdnjs.cloudflare.com/ajax/libs/mathjax/2.7.5/MathJax.js?config=TeX-AMS-MML_SVG\"></script><script type=\"text/javascript\">if (window.MathJax) {MathJax.Hub.Config({SVG: {font: \"STIX-Web\"}});}</script>\n",
              "                <script type=\"text/javascript\">window.PlotlyConfig = {MathJaxConfig: 'local'};</script>\n",
              "        <script src=\"https://cdn.plot.ly/plotly-latest.min.js\"></script>    \n",
              "            <div id=\"a0afe286-6f94-4edd-9d12-99bd388ea674\" class=\"plotly-graph-div\" style=\"height:760px; width:100%;\"></div>\n",
              "            <script type=\"text/javascript\">\n",
              "                \n",
              "                    window.PLOTLYENV=window.PLOTLYENV || {};\n",
              "                    \n",
              "                if (document.getElementById(\"a0afe286-6f94-4edd-9d12-99bd388ea674\")) {\n",
              "                    Plotly.newPlot(\n",
              "                        'a0afe286-6f94-4edd-9d12-99bd388ea674',\n",
              "                        [{\"customdata\": [0, 1, 2, 3, 4, 5, 6, 7, 8, 9, 10], \"hovertemplate\": \"%{y}[%{customdata}] = %{marker.color}<extra></extra>\", \"marker\": {\"color\": [\"rgb(229, 134, 6)\", \"rgb(93, 105, 177)\", \"rgb(82, 188, 163)\", \"rgb(153, 201, 69)\", \"rgb(204, 97, 176)\", \"rgb(36, 121, 108)\", \"rgb(218, 165, 27)\", \"rgb(47, 138, 196)\", \"rgb(118, 78, 159)\", \"rgb(237, 100, 90)\", \"rgb(165, 170, 153)\"]}, \"orientation\": \"h\", \"type\": \"bar\", \"x\": [1, 1, 1, 1, 1, 1, 1, 1, 1, 1, 1], \"y\": [\"Vivid\", \"Vivid\", \"Vivid\", \"Vivid\", \"Vivid\", \"Vivid\", \"Vivid\", \"Vivid\", \"Vivid\", \"Vivid\", \"Vivid\"]}, {\"customdata\": [0, 1, 2, 3, 4, 5, 6, 7, 8, 9, 10], \"hovertemplate\": \"%{y}[%{customdata}] = %{marker.color}<extra></extra>\", \"marker\": {\"color\": [\"rgb(136, 204, 238)\", \"rgb(204, 102, 119)\", \"rgb(221, 204, 119)\", \"rgb(17, 119, 51)\", \"rgb(51, 34, 136)\", \"rgb(170, 68, 153)\", \"rgb(68, 170, 153)\", \"rgb(153, 153, 51)\", \"rgb(136, 34, 85)\", \"rgb(102, 17, 0)\", \"rgb(136, 136, 136)\"]}, \"orientation\": \"h\", \"type\": \"bar\", \"x\": [1, 1, 1, 1, 1, 1, 1, 1, 1, 1, 1], \"y\": [\"Safe\", \"Safe\", \"Safe\", \"Safe\", \"Safe\", \"Safe\", \"Safe\", \"Safe\", \"Safe\", \"Safe\", \"Safe\"]}, {\"customdata\": [0, 1, 2, 3, 4, 5, 6, 7, 8, 9, 10], \"hovertemplate\": \"%{y}[%{customdata}] = %{marker.color}<extra></extra>\", \"marker\": {\"color\": [\"rgb(95, 70, 144)\", \"rgb(29, 105, 150)\", \"rgb(56, 166, 165)\", \"rgb(15, 133, 84)\", \"rgb(115, 175, 72)\", \"rgb(237, 173, 8)\", \"rgb(225, 124, 5)\", \"rgb(204, 80, 62)\", \"rgb(148, 52, 110)\", \"rgb(111, 64, 112)\", \"rgb(102, 102, 102)\"]}, \"orientation\": \"h\", \"type\": \"bar\", \"x\": [1, 1, 1, 1, 1, 1, 1, 1, 1, 1, 1], \"y\": [\"Prism\", \"Prism\", \"Prism\", \"Prism\", \"Prism\", \"Prism\", \"Prism\", \"Prism\", \"Prism\", \"Prism\", \"Prism\"]}, {\"customdata\": [0, 1, 2, 3, 4, 5, 6, 7, 8, 9, 10], \"hovertemplate\": \"%{y}[%{customdata}] = %{marker.color}<extra></extra>\", \"marker\": {\"color\": [\"rgb(102, 197, 204)\", \"rgb(246, 207, 113)\", \"rgb(248, 156, 116)\", \"rgb(220, 176, 242)\", \"rgb(135, 197, 95)\", \"rgb(158, 185, 243)\", \"rgb(254, 136, 177)\", \"rgb(201, 219, 116)\", \"rgb(139, 224, 164)\", \"rgb(180, 151, 231)\", \"rgb(179, 179, 179)\"]}, \"orientation\": \"h\", \"type\": \"bar\", \"x\": [1, 1, 1, 1, 1, 1, 1, 1, 1, 1, 1], \"y\": [\"Pastel\", \"Pastel\", \"Pastel\", \"Pastel\", \"Pastel\", \"Pastel\", \"Pastel\", \"Pastel\", \"Pastel\", \"Pastel\", \"Pastel\"]}, {\"customdata\": [0, 1, 2, 3, 4, 5, 6, 7, 8, 9, 10], \"hovertemplate\": \"%{y}[%{customdata}] = %{marker.color}<extra></extra>\", \"marker\": {\"color\": [\"rgb(127, 60, 141)\", \"rgb(17, 165, 121)\", \"rgb(57, 105, 172)\", \"rgb(242, 183, 1)\", \"rgb(231, 63, 116)\", \"rgb(128, 186, 90)\", \"rgb(230, 131, 16)\", \"rgb(0, 134, 149)\", \"rgb(207, 28, 144)\", \"rgb(249, 123, 114)\", \"rgb(165, 170, 153)\"]}, \"orientation\": \"h\", \"type\": \"bar\", \"x\": [1, 1, 1, 1, 1, 1, 1, 1, 1, 1, 1], \"y\": [\"Bold\", \"Bold\", \"Bold\", \"Bold\", \"Bold\", \"Bold\", \"Bold\", \"Bold\", \"Bold\", \"Bold\", \"Bold\"]}, {\"customdata\": [0, 1, 2, 3, 4, 5, 6, 7, 8, 9, 10], \"hovertemplate\": \"%{y}[%{customdata}] = %{marker.color}<extra></extra>\", \"marker\": {\"color\": [\"rgb(133, 92, 117)\", \"rgb(217, 175, 107)\", \"rgb(175, 100, 88)\", \"rgb(115, 111, 76)\", \"rgb(82, 106, 131)\", \"rgb(98, 83, 119)\", \"rgb(104, 133, 92)\", \"rgb(156, 156, 94)\", \"rgb(160, 97, 119)\", \"rgb(140, 120, 93)\", \"rgb(124, 124, 124)\"]}, \"orientation\": \"h\", \"type\": \"bar\", \"x\": [1, 1, 1, 1, 1, 1, 1, 1, 1, 1, 1], \"y\": [\"Antique\", \"Antique\", \"Antique\", \"Antique\", \"Antique\", \"Antique\", \"Antique\", \"Antique\", \"Antique\", \"Antique\", \"Antique\"]}, {\"customdata\": [0, 1, 2, 3, 4, 5, 6, 7, 8, 9, 10, 11], \"hovertemplate\": \"%{y}[%{customdata}] = %{marker.color}<extra></extra>\", \"marker\": {\"color\": [\"rgb(141,211,199)\", \"rgb(255,255,179)\", \"rgb(190,186,218)\", \"rgb(251,128,114)\", \"rgb(128,177,211)\", \"rgb(253,180,98)\", \"rgb(179,222,105)\", \"rgb(252,205,229)\", \"rgb(217,217,217)\", \"rgb(188,128,189)\", \"rgb(204,235,197)\", \"rgb(255,237,111)\"]}, \"orientation\": \"h\", \"type\": \"bar\", \"x\": [1, 1, 1, 1, 1, 1, 1, 1, 1, 1, 1, 1], \"y\": [\"Set3\", \"Set3\", \"Set3\", \"Set3\", \"Set3\", \"Set3\", \"Set3\", \"Set3\", \"Set3\", \"Set3\", \"Set3\", \"Set3\"]}, {\"customdata\": [0, 1, 2, 3, 4, 5, 6, 7], \"hovertemplate\": \"%{y}[%{customdata}] = %{marker.color}<extra></extra>\", \"marker\": {\"color\": [\"rgb(179,226,205)\", \"rgb(253,205,172)\", \"rgb(203,213,232)\", \"rgb(244,202,228)\", \"rgb(230,245,201)\", \"rgb(255,242,174)\", \"rgb(241,226,204)\", \"rgb(204,204,204)\"]}, \"orientation\": \"h\", \"type\": \"bar\", \"x\": [1, 1, 1, 1, 1, 1, 1, 1], \"y\": [\"Pastel2\", \"Pastel2\", \"Pastel2\", \"Pastel2\", \"Pastel2\", \"Pastel2\", \"Pastel2\", \"Pastel2\"]}, {\"customdata\": [0, 1, 2, 3, 4, 5, 6, 7], \"hovertemplate\": \"%{y}[%{customdata}] = %{marker.color}<extra></extra>\", \"marker\": {\"color\": [\"rgb(102,194,165)\", \"rgb(252,141,98)\", \"rgb(141,160,203)\", \"rgb(231,138,195)\", \"rgb(166,216,84)\", \"rgb(255,217,47)\", \"rgb(229,196,148)\", \"rgb(179,179,179)\"]}, \"orientation\": \"h\", \"type\": \"bar\", \"x\": [1, 1, 1, 1, 1, 1, 1, 1], \"y\": [\"Set2\", \"Set2\", \"Set2\", \"Set2\", \"Set2\", \"Set2\", \"Set2\", \"Set2\"]}, {\"customdata\": [0, 1, 2, 3, 4, 5, 6, 7], \"hovertemplate\": \"%{y}[%{customdata}] = %{marker.color}<extra></extra>\", \"marker\": {\"color\": [\"rgb(27,158,119)\", \"rgb(217,95,2)\", \"rgb(117,112,179)\", \"rgb(231,41,138)\", \"rgb(102,166,30)\", \"rgb(230,171,2)\", \"rgb(166,118,29)\", \"rgb(102,102,102)\"]}, \"orientation\": \"h\", \"type\": \"bar\", \"x\": [1, 1, 1, 1, 1, 1, 1, 1], \"y\": [\"Dark2\", \"Dark2\", \"Dark2\", \"Dark2\", \"Dark2\", \"Dark2\", \"Dark2\", \"Dark2\"]}, {\"customdata\": [0, 1, 2, 3, 4, 5, 6, 7, 8], \"hovertemplate\": \"%{y}[%{customdata}] = %{marker.color}<extra></extra>\", \"marker\": {\"color\": [\"rgb(251,180,174)\", \"rgb(179,205,227)\", \"rgb(204,235,197)\", \"rgb(222,203,228)\", \"rgb(254,217,166)\", \"rgb(255,255,204)\", \"rgb(229,216,189)\", \"rgb(253,218,236)\", \"rgb(242,242,242)\"]}, \"orientation\": \"h\", \"type\": \"bar\", \"x\": [1, 1, 1, 1, 1, 1, 1, 1, 1], \"y\": [\"Pastel1\", \"Pastel1\", \"Pastel1\", \"Pastel1\", \"Pastel1\", \"Pastel1\", \"Pastel1\", \"Pastel1\", \"Pastel1\"]}, {\"customdata\": [0, 1, 2, 3, 4, 5, 6, 7, 8], \"hovertemplate\": \"%{y}[%{customdata}] = %{marker.color}<extra></extra>\", \"marker\": {\"color\": [\"rgb(228,26,28)\", \"rgb(55,126,184)\", \"rgb(77,175,74)\", \"rgb(152,78,163)\", \"rgb(255,127,0)\", \"rgb(255,255,51)\", \"rgb(166,86,40)\", \"rgb(247,129,191)\", \"rgb(153,153,153)\"]}, \"orientation\": \"h\", \"type\": \"bar\", \"x\": [1, 1, 1, 1, 1, 1, 1, 1, 1], \"y\": [\"Set1\", \"Set1\", \"Set1\", \"Set1\", \"Set1\", \"Set1\", \"Set1\", \"Set1\", \"Set1\"]}, {\"customdata\": [0, 1, 2, 3, 4, 5, 6, 7, 8, 9, 10, 11, 12, 13, 14, 15, 16, 17, 18, 19, 20, 21, 22, 23], \"hovertemplate\": \"%{y}[%{customdata}] = %{marker.color}<extra></extra>\", \"marker\": {\"color\": [\"#FD3216\", \"#00FE35\", \"#6A76FC\", \"#FED4C4\", \"#FE00CE\", \"#0DF9FF\", \"#F6F926\", \"#FF9616\", \"#479B55\", \"#EEA6FB\", \"#DC587D\", \"#D626FF\", \"#6E899C\", \"#00B5F7\", \"#B68E00\", \"#C9FBE5\", \"#FF0092\", \"#22FFA7\", \"#E3EE9E\", \"#86CE00\", \"#BC7196\", \"#7E7DCD\", \"#FC6955\", \"#E48F72\"]}, \"orientation\": \"h\", \"type\": \"bar\", \"x\": [1, 1, 1, 1, 1, 1, 1, 1, 1, 1, 1, 1, 1, 1, 1, 1, 1, 1, 1, 1, 1, 1, 1, 1], \"y\": [\"Light24\", \"Light24\", \"Light24\", \"Light24\", \"Light24\", \"Light24\", \"Light24\", \"Light24\", \"Light24\", \"Light24\", \"Light24\", \"Light24\", \"Light24\", \"Light24\", \"Light24\", \"Light24\", \"Light24\", \"Light24\", \"Light24\", \"Light24\", \"Light24\", \"Light24\", \"Light24\", \"Light24\"]}, {\"customdata\": [0, 1, 2, 3, 4, 5, 6, 7, 8, 9, 10, 11, 12, 13, 14, 15, 16, 17, 18, 19, 20, 21, 22, 23], \"hovertemplate\": \"%{y}[%{customdata}] = %{marker.color}<extra></extra>\", \"marker\": {\"color\": [\"#2E91E5\", \"#E15F99\", \"#1CA71C\", \"#FB0D0D\", \"#DA16FF\", \"#222A2A\", \"#B68100\", \"#750D86\", \"#EB663B\", \"#511CFB\", \"#00A08B\", \"#FB00D1\", \"#FC0080\", \"#B2828D\", \"#6C7C32\", \"#778AAE\", \"#862A16\", \"#A777F1\", \"#620042\", \"#1616A7\", \"#DA60CA\", \"#6C4516\", \"#0D2A63\", \"#AF0038\"]}, \"orientation\": \"h\", \"type\": \"bar\", \"x\": [1, 1, 1, 1, 1, 1, 1, 1, 1, 1, 1, 1, 1, 1, 1, 1, 1, 1, 1, 1, 1, 1, 1, 1], \"y\": [\"Dark24\", \"Dark24\", \"Dark24\", \"Dark24\", \"Dark24\", \"Dark24\", \"Dark24\", \"Dark24\", \"Dark24\", \"Dark24\", \"Dark24\", \"Dark24\", \"Dark24\", \"Dark24\", \"Dark24\", \"Dark24\", \"Dark24\", \"Dark24\", \"Dark24\", \"Dark24\", \"Dark24\", \"Dark24\", \"Dark24\", \"Dark24\"]}, {\"customdata\": [0, 1, 2, 3, 4, 5, 6, 7, 8, 9, 10, 11, 12, 13, 14, 15, 16, 17, 18, 19, 20, 21, 22, 23, 24, 25], \"hovertemplate\": \"%{y}[%{customdata}] = %{marker.color}<extra></extra>\", \"marker\": {\"color\": [\"#AA0DFE\", \"#3283FE\", \"#85660D\", \"#782AB6\", \"#565656\", \"#1C8356\", \"#16FF32\", \"#F7E1A0\", \"#E2E2E2\", \"#1CBE4F\", \"#C4451C\", \"#DEA0FD\", \"#FE00FA\", \"#325A9B\", \"#FEAF16\", \"#F8A19F\", \"#90AD1C\", \"#F6222E\", \"#1CFFCE\", \"#2ED9FF\", \"#B10DA1\", \"#C075A6\", \"#FC1CBF\", \"#B00068\", \"#FBE426\", \"#FA0087\"]}, \"orientation\": \"h\", \"type\": \"bar\", \"x\": [1, 1, 1, 1, 1, 1, 1, 1, 1, 1, 1, 1, 1, 1, 1, 1, 1, 1, 1, 1, 1, 1, 1, 1, 1, 1], \"y\": [\"Alphabet\", \"Alphabet\", \"Alphabet\", \"Alphabet\", \"Alphabet\", \"Alphabet\", \"Alphabet\", \"Alphabet\", \"Alphabet\", \"Alphabet\", \"Alphabet\", \"Alphabet\", \"Alphabet\", \"Alphabet\", \"Alphabet\", \"Alphabet\", \"Alphabet\", \"Alphabet\", \"Alphabet\", \"Alphabet\", \"Alphabet\", \"Alphabet\", \"Alphabet\", \"Alphabet\", \"Alphabet\", \"Alphabet\"]}, {\"customdata\": [0, 1, 2, 3, 4, 5, 6, 7, 8, 9], \"hovertemplate\": \"%{y}[%{customdata}] = %{marker.color}<extra></extra>\", \"marker\": {\"color\": [\"#4C78A8\", \"#F58518\", \"#E45756\", \"#72B7B2\", \"#54A24B\", \"#EECA3B\", \"#B279A2\", \"#FF9DA6\", \"#9D755D\", \"#BAB0AC\"]}, \"orientation\": \"h\", \"type\": \"bar\", \"x\": [1, 1, 1, 1, 1, 1, 1, 1, 1, 1], \"y\": [\"T10\", \"T10\", \"T10\", \"T10\", \"T10\", \"T10\", \"T10\", \"T10\", \"T10\", \"T10\"]}, {\"customdata\": [0, 1, 2, 3, 4, 5, 6, 7, 8, 9], \"hovertemplate\": \"%{y}[%{customdata}] = %{marker.color}<extra></extra>\", \"marker\": {\"color\": [\"#3366CC\", \"#DC3912\", \"#FF9900\", \"#109618\", \"#990099\", \"#0099C6\", \"#DD4477\", \"#66AA00\", \"#B82E2E\", \"#316395\"]}, \"orientation\": \"h\", \"type\": \"bar\", \"x\": [1, 1, 1, 1, 1, 1, 1, 1, 1, 1], \"y\": [\"G10\", \"G10\", \"G10\", \"G10\", \"G10\", \"G10\", \"G10\", \"G10\", \"G10\", \"G10\"]}, {\"customdata\": [0, 1, 2, 3, 4, 5, 6, 7, 8, 9], \"hovertemplate\": \"%{y}[%{customdata}] = %{marker.color}<extra></extra>\", \"marker\": {\"color\": [\"#1F77B4\", \"#FF7F0E\", \"#2CA02C\", \"#D62728\", \"#9467BD\", \"#8C564B\", \"#E377C2\", \"#7F7F7F\", \"#BCBD22\", \"#17BECF\"]}, \"orientation\": \"h\", \"type\": \"bar\", \"x\": [1, 1, 1, 1, 1, 1, 1, 1, 1, 1], \"y\": [\"D3\", \"D3\", \"D3\", \"D3\", \"D3\", \"D3\", \"D3\", \"D3\", \"D3\", \"D3\"]}, {\"customdata\": [0, 1, 2, 3, 4, 5, 6, 7, 8, 9], \"hovertemplate\": \"%{y}[%{customdata}] = %{marker.color}<extra></extra>\", \"marker\": {\"color\": [\"#636EFA\", \"#EF553B\", \"#00CC96\", \"#AB63FA\", \"#FFA15A\", \"#19D3F3\", \"#FF6692\", \"#B6E880\", \"#FF97FF\", \"#FECB52\"]}, \"orientation\": \"h\", \"type\": \"bar\", \"x\": [1, 1, 1, 1, 1, 1, 1, 1, 1, 1], \"y\": [\"Plotly\", \"Plotly\", \"Plotly\", \"Plotly\", \"Plotly\", \"Plotly\", \"Plotly\", \"Plotly\", \"Plotly\", \"Plotly\"]}],\n",
              "                        {\"bargap\": 0.5, \"barmode\": \"stack\", \"barnorm\": \"fraction\", \"height\": 760, \"showlegend\": false, \"template\": {\"data\": {\"bar\": [{\"error_x\": {\"color\": \"#2a3f5f\"}, \"error_y\": {\"color\": \"#2a3f5f\"}, \"marker\": {\"line\": {\"color\": \"#E5ECF6\", \"width\": 0.5}}, \"type\": \"bar\"}], \"barpolar\": [{\"marker\": {\"line\": {\"color\": \"#E5ECF6\", \"width\": 0.5}}, \"type\": \"barpolar\"}], \"carpet\": [{\"aaxis\": {\"endlinecolor\": \"#2a3f5f\", \"gridcolor\": \"white\", \"linecolor\": \"white\", \"minorgridcolor\": \"white\", \"startlinecolor\": \"#2a3f5f\"}, \"baxis\": {\"endlinecolor\": \"#2a3f5f\", \"gridcolor\": \"white\", \"linecolor\": \"white\", \"minorgridcolor\": \"white\", \"startlinecolor\": \"#2a3f5f\"}, \"type\": \"carpet\"}], \"choropleth\": [{\"colorbar\": {\"outlinewidth\": 0, \"ticks\": \"\"}, \"type\": \"choropleth\"}], \"contour\": [{\"colorbar\": {\"outlinewidth\": 0, \"ticks\": \"\"}, \"colorscale\": [[0.0, \"#0d0887\"], [0.1111111111111111, \"#46039f\"], [0.2222222222222222, \"#7201a8\"], [0.3333333333333333, \"#9c179e\"], [0.4444444444444444, \"#bd3786\"], [0.5555555555555556, \"#d8576b\"], [0.6666666666666666, \"#ed7953\"], [0.7777777777777778, \"#fb9f3a\"], [0.8888888888888888, \"#fdca26\"], [1.0, \"#f0f921\"]], \"type\": \"contour\"}], \"contourcarpet\": [{\"colorbar\": {\"outlinewidth\": 0, \"ticks\": \"\"}, \"type\": \"contourcarpet\"}], \"heatmap\": [{\"colorbar\": {\"outlinewidth\": 0, \"ticks\": \"\"}, \"colorscale\": [[0.0, \"#0d0887\"], [0.1111111111111111, \"#46039f\"], [0.2222222222222222, \"#7201a8\"], [0.3333333333333333, \"#9c179e\"], [0.4444444444444444, \"#bd3786\"], [0.5555555555555556, \"#d8576b\"], [0.6666666666666666, \"#ed7953\"], [0.7777777777777778, \"#fb9f3a\"], [0.8888888888888888, \"#fdca26\"], [1.0, \"#f0f921\"]], \"type\": \"heatmap\"}], \"heatmapgl\": [{\"colorbar\": {\"outlinewidth\": 0, \"ticks\": \"\"}, \"colorscale\": [[0.0, \"#0d0887\"], [0.1111111111111111, \"#46039f\"], [0.2222222222222222, \"#7201a8\"], [0.3333333333333333, \"#9c179e\"], [0.4444444444444444, \"#bd3786\"], [0.5555555555555556, \"#d8576b\"], [0.6666666666666666, \"#ed7953\"], [0.7777777777777778, \"#fb9f3a\"], [0.8888888888888888, \"#fdca26\"], [1.0, \"#f0f921\"]], \"type\": \"heatmapgl\"}], \"histogram\": [{\"marker\": {\"colorbar\": {\"outlinewidth\": 0, \"ticks\": \"\"}}, \"type\": \"histogram\"}], \"histogram2d\": [{\"colorbar\": {\"outlinewidth\": 0, \"ticks\": \"\"}, \"colorscale\": [[0.0, \"#0d0887\"], [0.1111111111111111, \"#46039f\"], [0.2222222222222222, \"#7201a8\"], [0.3333333333333333, \"#9c179e\"], [0.4444444444444444, \"#bd3786\"], [0.5555555555555556, \"#d8576b\"], [0.6666666666666666, \"#ed7953\"], [0.7777777777777778, \"#fb9f3a\"], [0.8888888888888888, \"#fdca26\"], [1.0, \"#f0f921\"]], \"type\": \"histogram2d\"}], \"histogram2dcontour\": [{\"colorbar\": {\"outlinewidth\": 0, \"ticks\": \"\"}, \"colorscale\": [[0.0, \"#0d0887\"], [0.1111111111111111, \"#46039f\"], [0.2222222222222222, \"#7201a8\"], [0.3333333333333333, \"#9c179e\"], [0.4444444444444444, \"#bd3786\"], [0.5555555555555556, \"#d8576b\"], [0.6666666666666666, \"#ed7953\"], [0.7777777777777778, \"#fb9f3a\"], [0.8888888888888888, \"#fdca26\"], [1.0, \"#f0f921\"]], \"type\": \"histogram2dcontour\"}], \"mesh3d\": [{\"colorbar\": {\"outlinewidth\": 0, \"ticks\": \"\"}, \"type\": \"mesh3d\"}], \"parcoords\": [{\"line\": {\"colorbar\": {\"outlinewidth\": 0, \"ticks\": \"\"}}, \"type\": \"parcoords\"}], \"pie\": [{\"automargin\": true, \"type\": \"pie\"}], \"scatter\": [{\"marker\": {\"colorbar\": {\"outlinewidth\": 0, \"ticks\": \"\"}}, \"type\": \"scatter\"}], \"scatter3d\": [{\"line\": {\"colorbar\": {\"outlinewidth\": 0, \"ticks\": \"\"}}, \"marker\": {\"colorbar\": {\"outlinewidth\": 0, \"ticks\": \"\"}}, \"type\": \"scatter3d\"}], \"scattercarpet\": [{\"marker\": {\"colorbar\": {\"outlinewidth\": 0, \"ticks\": \"\"}}, \"type\": \"scattercarpet\"}], \"scattergeo\": [{\"marker\": {\"colorbar\": {\"outlinewidth\": 0, \"ticks\": \"\"}}, \"type\": \"scattergeo\"}], \"scattergl\": [{\"marker\": {\"colorbar\": {\"outlinewidth\": 0, \"ticks\": \"\"}}, \"type\": \"scattergl\"}], \"scattermapbox\": [{\"marker\": {\"colorbar\": {\"outlinewidth\": 0, \"ticks\": \"\"}}, \"type\": \"scattermapbox\"}], \"scatterpolar\": [{\"marker\": {\"colorbar\": {\"outlinewidth\": 0, \"ticks\": \"\"}}, \"type\": \"scatterpolar\"}], \"scatterpolargl\": [{\"marker\": {\"colorbar\": {\"outlinewidth\": 0, \"ticks\": \"\"}}, \"type\": \"scatterpolargl\"}], \"scatterternary\": [{\"marker\": {\"colorbar\": {\"outlinewidth\": 0, \"ticks\": \"\"}}, \"type\": \"scatterternary\"}], \"surface\": [{\"colorbar\": {\"outlinewidth\": 0, \"ticks\": \"\"}, \"colorscale\": [[0.0, \"#0d0887\"], [0.1111111111111111, \"#46039f\"], [0.2222222222222222, \"#7201a8\"], [0.3333333333333333, \"#9c179e\"], [0.4444444444444444, \"#bd3786\"], [0.5555555555555556, \"#d8576b\"], [0.6666666666666666, \"#ed7953\"], [0.7777777777777778, \"#fb9f3a\"], [0.8888888888888888, \"#fdca26\"], [1.0, \"#f0f921\"]], \"type\": \"surface\"}], \"table\": [{\"cells\": {\"fill\": {\"color\": \"#EBF0F8\"}, \"line\": {\"color\": \"white\"}}, \"header\": {\"fill\": {\"color\": \"#C8D4E3\"}, \"line\": {\"color\": \"white\"}}, \"type\": \"table\"}]}, \"layout\": {\"annotationdefaults\": {\"arrowcolor\": \"#2a3f5f\", \"arrowhead\": 0, \"arrowwidth\": 1}, \"coloraxis\": {\"colorbar\": {\"outlinewidth\": 0, \"ticks\": \"\"}}, \"colorscale\": {\"diverging\": [[0, \"#8e0152\"], [0.1, \"#c51b7d\"], [0.2, \"#de77ae\"], [0.3, \"#f1b6da\"], [0.4, \"#fde0ef\"], [0.5, \"#f7f7f7\"], [0.6, \"#e6f5d0\"], [0.7, \"#b8e186\"], [0.8, \"#7fbc41\"], [0.9, \"#4d9221\"], [1, \"#276419\"]], \"sequential\": [[0.0, \"#0d0887\"], [0.1111111111111111, \"#46039f\"], [0.2222222222222222, \"#7201a8\"], [0.3333333333333333, \"#9c179e\"], [0.4444444444444444, \"#bd3786\"], [0.5555555555555556, \"#d8576b\"], [0.6666666666666666, \"#ed7953\"], [0.7777777777777778, \"#fb9f3a\"], [0.8888888888888888, \"#fdca26\"], [1.0, \"#f0f921\"]], \"sequentialminus\": [[0.0, \"#0d0887\"], [0.1111111111111111, \"#46039f\"], [0.2222222222222222, \"#7201a8\"], [0.3333333333333333, \"#9c179e\"], [0.4444444444444444, \"#bd3786\"], [0.5555555555555556, \"#d8576b\"], [0.6666666666666666, \"#ed7953\"], [0.7777777777777778, \"#fb9f3a\"], [0.8888888888888888, \"#fdca26\"], [1.0, \"#f0f921\"]]}, \"colorway\": [\"#636efa\", \"#EF553B\", \"#00cc96\", \"#ab63fa\", \"#FFA15A\", \"#19d3f3\", \"#FF6692\", \"#B6E880\", \"#FF97FF\", \"#FECB52\"], \"font\": {\"color\": \"#2a3f5f\"}, \"geo\": {\"bgcolor\": \"white\", \"lakecolor\": \"white\", \"landcolor\": \"#E5ECF6\", \"showlakes\": true, \"showland\": true, \"subunitcolor\": \"white\"}, \"hoverlabel\": {\"align\": \"left\"}, \"hovermode\": \"closest\", \"mapbox\": {\"style\": \"light\"}, \"paper_bgcolor\": \"white\", \"plot_bgcolor\": \"#E5ECF6\", \"polar\": {\"angularaxis\": {\"gridcolor\": \"white\", \"linecolor\": \"white\", \"ticks\": \"\"}, \"bgcolor\": \"#E5ECF6\", \"radialaxis\": {\"gridcolor\": \"white\", \"linecolor\": \"white\", \"ticks\": \"\"}}, \"scene\": {\"xaxis\": {\"backgroundcolor\": \"#E5ECF6\", \"gridcolor\": \"white\", \"gridwidth\": 2, \"linecolor\": \"white\", \"showbackground\": true, \"ticks\": \"\", \"zerolinecolor\": \"white\"}, \"yaxis\": {\"backgroundcolor\": \"#E5ECF6\", \"gridcolor\": \"white\", \"gridwidth\": 2, \"linecolor\": \"white\", \"showbackground\": true, \"ticks\": \"\", \"zerolinecolor\": \"white\"}, \"zaxis\": {\"backgroundcolor\": \"#E5ECF6\", \"gridcolor\": \"white\", \"gridwidth\": 2, \"linecolor\": \"white\", \"showbackground\": true, \"ticks\": \"\", \"zerolinecolor\": \"white\"}}, \"shapedefaults\": {\"line\": {\"color\": \"#2a3f5f\"}}, \"ternary\": {\"aaxis\": {\"gridcolor\": \"white\", \"linecolor\": \"white\", \"ticks\": \"\"}, \"baxis\": {\"gridcolor\": \"white\", \"linecolor\": \"white\", \"ticks\": \"\"}, \"bgcolor\": \"#E5ECF6\", \"caxis\": {\"gridcolor\": \"white\", \"linecolor\": \"white\", \"ticks\": \"\"}}, \"title\": {\"x\": 0.05}, \"xaxis\": {\"automargin\": true, \"gridcolor\": \"white\", \"linecolor\": \"white\", \"ticks\": \"\", \"title\": {\"standoff\": 15}, \"zerolinecolor\": \"white\", \"zerolinewidth\": 2}, \"yaxis\": {\"automargin\": true, \"gridcolor\": \"white\", \"linecolor\": \"white\", \"ticks\": \"\", \"title\": {\"standoff\": 15}, \"zerolinecolor\": \"white\", \"zerolinewidth\": 2}}}, \"title\": {\"text\": \"plotly.colors.qualitative\"}, \"xaxis\": {\"range\": [-0.02, 1.02], \"showgrid\": false, \"showticklabels\": false}},\n",
              "                        {\"responsive\": true}\n",
              "                    ).then(function(){\n",
              "                            \n",
              "var gd = document.getElementById('a0afe286-6f94-4edd-9d12-99bd388ea674');\n",
              "var x = new MutationObserver(function (mutations, observer) {{\n",
              "        var display = window.getComputedStyle(gd).display;\n",
              "        if (!display || display === 'none') {{\n",
              "            console.log([gd, 'removed!']);\n",
              "            Plotly.purge(gd);\n",
              "            observer.disconnect();\n",
              "        }}\n",
              "}});\n",
              "\n",
              "// Listen for the removal of the full notebook cells\n",
              "var notebookContainer = gd.closest('#notebook-container');\n",
              "if (notebookContainer) {{\n",
              "    x.observe(notebookContainer, {childList: true});\n",
              "}}\n",
              "\n",
              "// Listen for the clearing of the current output cell\n",
              "var outputEl = gd.closest('.output');\n",
              "if (outputEl) {{\n",
              "    x.observe(outputEl, {childList: true});\n",
              "}}\n",
              "\n",
              "                        })\n",
              "                };\n",
              "                \n",
              "            </script>\n",
              "        </div>\n",
              "</body>\n",
              "</html>"
            ]
          },
          "metadata": {}
        }
      ]
    },
    {
      "cell_type": "code",
      "source": [
        ""
      ],
      "metadata": {
        "id": "JevHJ2hE6tFs"
      },
      "execution_count": null,
      "outputs": []
    },
    {
      "cell_type": "code",
      "source": [
        ""
      ],
      "metadata": {
        "id": "4ATsc7MS6s3I"
      },
      "execution_count": null,
      "outputs": []
    }
  ]
}